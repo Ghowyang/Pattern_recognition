{
 "cells": [
  {
   "cell_type": "code",
   "execution_count": 25,
   "id": "6ef656f1",
   "metadata": {},
   "outputs": [],
   "source": [
    "import sympy as sym\n",
    "import matplotlib.pyplot as plt\n",
    "import numpy as np\n",
    "from scipy.signal import find_peaks\n",
    "from IPython.display import display,Math\n",
    "from sympy import oo\n",
    "import scipy.linalg as sp_linalg\n",
    "import pandas as pd\n",
    "from math import exp"
   ]
  },
  {
   "cell_type": "code",
   "execution_count": null,
   "id": "05f91006",
   "metadata": {},
   "outputs": [],
   "source": [
    "{1}"
   ]
  },
  {
   "cell_type": "code",
   "execution_count": null,
   "id": "90476d5a",
   "metadata": {},
   "outputs": [],
   "source": [
    "(.01)"
   ]
  },
  {
   "cell_type": "code",
   "execution_count": 35,
   "id": "4ea9ce21",
   "metadata": {},
   "outputs": [
    {
     "data": {
      "text/latex": [
       "$\\displaystyle \\frac{N^{11}}{11}$"
      ],
      "text/plain": [
       "N**11/11"
      ]
     },
     "execution_count": 35,
     "metadata": {},
     "output_type": "execute_result"
    }
   ],
   "source": [
    "x,N = sym.symbols('x,N')\n",
    "sym.integrate(x**10, (x, 0, N))"
   ]
  },
  {
   "cell_type": "code",
   "execution_count": null,
   "id": "b5df4c5a",
   "metadata": {},
   "outputs": [],
   "source": [
    "(.02)"
   ]
  },
  {
   "cell_type": "code",
   "execution_count": 39,
   "id": "0b01e9ea",
   "metadata": {
    "scrolled": true
   },
   "outputs": [
    {
     "name": "stdout",
     "output_type": "stream",
     "text": [
      "0\n",
      "Sum(1, (x, 1, N))\n"
     ]
    },
    {
     "data": {
      "text/latex": [
       "$\\displaystyle \\sum_{x=1}^{N} 1$"
      ],
      "text/plain": [
       "Sum(1, (x, 1, N))"
      ]
     },
     "metadata": {},
     "output_type": "display_data"
    },
    {
     "data": {
      "text/latex": [
       "$\\displaystyle N$"
      ],
      "text/plain": [
       "N"
      ]
     },
     "metadata": {},
     "output_type": "display_data"
    },
    {
     "name": "stdout",
     "output_type": "stream",
     "text": [
      "----------\n",
      "1\n",
      "Sum(x, (x, 1, N))\n"
     ]
    },
    {
     "data": {
      "text/latex": [
       "$\\displaystyle \\sum_{x=1}^{N} x$"
      ],
      "text/plain": [
       "Sum(x, (x, 1, N))"
      ]
     },
     "metadata": {},
     "output_type": "display_data"
    },
    {
     "data": {
      "text/latex": [
       "$\\displaystyle \\frac{N^{2}}{2} + \\frac{N}{2}$"
      ],
      "text/plain": [
       "N**2/2 + N/2"
      ]
     },
     "metadata": {},
     "output_type": "display_data"
    },
    {
     "name": "stdout",
     "output_type": "stream",
     "text": [
      "----------\n",
      "2\n",
      "Sum(x**2, (x, 1, N))\n"
     ]
    },
    {
     "data": {
      "text/latex": [
       "$\\displaystyle \\sum_{x=1}^{N} x^{2}$"
      ],
      "text/plain": [
       "Sum(x**2, (x, 1, N))"
      ]
     },
     "metadata": {},
     "output_type": "display_data"
    },
    {
     "data": {
      "text/latex": [
       "$\\displaystyle \\frac{N^{3}}{3} + \\frac{N^{2}}{2} + \\frac{N}{6}$"
      ],
      "text/plain": [
       "N**3/3 + N**2/2 + N/6"
      ]
     },
     "metadata": {},
     "output_type": "display_data"
    },
    {
     "name": "stdout",
     "output_type": "stream",
     "text": [
      "----------\n",
      "3\n",
      "Sum(x**3, (x, 1, N))\n"
     ]
    },
    {
     "data": {
      "text/latex": [
       "$\\displaystyle \\sum_{x=1}^{N} x^{3}$"
      ],
      "text/plain": [
       "Sum(x**3, (x, 1, N))"
      ]
     },
     "metadata": {},
     "output_type": "display_data"
    },
    {
     "data": {
      "text/latex": [
       "$\\displaystyle \\frac{N^{4}}{4} + \\frac{N^{3}}{2} + \\frac{N^{2}}{4}$"
      ],
      "text/plain": [
       "N**4/4 + N**3/2 + N**2/4"
      ]
     },
     "metadata": {},
     "output_type": "display_data"
    },
    {
     "name": "stdout",
     "output_type": "stream",
     "text": [
      "----------\n",
      "4\n",
      "Sum(x**4, (x, 1, N))\n"
     ]
    },
    {
     "data": {
      "text/latex": [
       "$\\displaystyle \\sum_{x=1}^{N} x^{4}$"
      ],
      "text/plain": [
       "Sum(x**4, (x, 1, N))"
      ]
     },
     "metadata": {},
     "output_type": "display_data"
    },
    {
     "data": {
      "text/latex": [
       "$\\displaystyle \\frac{N^{5}}{5} + \\frac{N^{4}}{2} + \\frac{N^{3}}{3} - \\frac{N}{30}$"
      ],
      "text/plain": [
       "N**5/5 + N**4/2 + N**3/3 - N/30"
      ]
     },
     "metadata": {},
     "output_type": "display_data"
    },
    {
     "name": "stdout",
     "output_type": "stream",
     "text": [
      "----------\n",
      "5\n",
      "Sum(x**5, (x, 1, N))\n"
     ]
    },
    {
     "data": {
      "text/latex": [
       "$\\displaystyle \\sum_{x=1}^{N} x^{5}$"
      ],
      "text/plain": [
       "Sum(x**5, (x, 1, N))"
      ]
     },
     "metadata": {},
     "output_type": "display_data"
    },
    {
     "data": {
      "text/latex": [
       "$\\displaystyle \\frac{N^{6}}{6} + \\frac{N^{5}}{2} + \\frac{5 N^{4}}{12} - \\frac{N^{2}}{12}$"
      ],
      "text/plain": [
       "N**6/6 + N**5/2 + 5*N**4/12 - N**2/12"
      ]
     },
     "metadata": {},
     "output_type": "display_data"
    },
    {
     "name": "stdout",
     "output_type": "stream",
     "text": [
      "----------\n",
      "6\n",
      "Sum(x**6, (x, 1, N))\n"
     ]
    },
    {
     "data": {
      "text/latex": [
       "$\\displaystyle \\sum_{x=1}^{N} x^{6}$"
      ],
      "text/plain": [
       "Sum(x**6, (x, 1, N))"
      ]
     },
     "metadata": {},
     "output_type": "display_data"
    },
    {
     "data": {
      "text/latex": [
       "$\\displaystyle \\frac{N^{7}}{7} + \\frac{N^{6}}{2} + \\frac{N^{5}}{2} - \\frac{N^{3}}{6} + \\frac{N}{42}$"
      ],
      "text/plain": [
       "N**7/7 + N**6/2 + N**5/2 - N**3/6 + N/42"
      ]
     },
     "metadata": {},
     "output_type": "display_data"
    },
    {
     "name": "stdout",
     "output_type": "stream",
     "text": [
      "----------\n",
      "7\n",
      "Sum(x**7, (x, 1, N))\n"
     ]
    },
    {
     "data": {
      "text/latex": [
       "$\\displaystyle \\sum_{x=1}^{N} x^{7}$"
      ],
      "text/plain": [
       "Sum(x**7, (x, 1, N))"
      ]
     },
     "metadata": {},
     "output_type": "display_data"
    },
    {
     "data": {
      "text/latex": [
       "$\\displaystyle \\frac{N^{8}}{8} + \\frac{N^{7}}{2} + \\frac{7 N^{6}}{12} - \\frac{7 N^{4}}{24} + \\frac{N^{2}}{12}$"
      ],
      "text/plain": [
       "N**8/8 + N**7/2 + 7*N**6/12 - 7*N**4/24 + N**2/12"
      ]
     },
     "metadata": {},
     "output_type": "display_data"
    },
    {
     "name": "stdout",
     "output_type": "stream",
     "text": [
      "----------\n",
      "8\n",
      "Sum(x**8, (x, 1, N))\n"
     ]
    },
    {
     "data": {
      "text/latex": [
       "$\\displaystyle \\sum_{x=1}^{N} x^{8}$"
      ],
      "text/plain": [
       "Sum(x**8, (x, 1, N))"
      ]
     },
     "metadata": {},
     "output_type": "display_data"
    },
    {
     "data": {
      "text/latex": [
       "$\\displaystyle \\frac{N^{9}}{9} + \\frac{N^{8}}{2} + \\frac{2 N^{7}}{3} - \\frac{7 N^{5}}{15} + \\frac{2 N^{3}}{9} - \\frac{N}{30}$"
      ],
      "text/plain": [
       "N**9/9 + N**8/2 + 2*N**7/3 - 7*N**5/15 + 2*N**3/9 - N/30"
      ]
     },
     "metadata": {},
     "output_type": "display_data"
    },
    {
     "name": "stdout",
     "output_type": "stream",
     "text": [
      "----------\n",
      "9\n",
      "Sum(x**9, (x, 1, N))\n"
     ]
    },
    {
     "data": {
      "text/latex": [
       "$\\displaystyle \\sum_{x=1}^{N} x^{9}$"
      ],
      "text/plain": [
       "Sum(x**9, (x, 1, N))"
      ]
     },
     "metadata": {},
     "output_type": "display_data"
    },
    {
     "data": {
      "text/latex": [
       "$\\displaystyle \\frac{N^{10}}{10} + \\frac{N^{9}}{2} + \\frac{3 N^{8}}{4} - \\frac{7 N^{6}}{10} + \\frac{N^{4}}{2} - \\frac{3 N^{2}}{20}$"
      ],
      "text/plain": [
       "N**10/10 + N**9/2 + 3*N**8/4 - 7*N**6/10 + N**4/2 - 3*N**2/20"
      ]
     },
     "metadata": {},
     "output_type": "display_data"
    },
    {
     "name": "stdout",
     "output_type": "stream",
     "text": [
      "----------\n",
      "10\n",
      "Sum(x**10, (x, 1, N))\n"
     ]
    },
    {
     "data": {
      "text/latex": [
       "$\\displaystyle \\sum_{x=1}^{N} x^{10}$"
      ],
      "text/plain": [
       "Sum(x**10, (x, 1, N))"
      ]
     },
     "metadata": {},
     "output_type": "display_data"
    },
    {
     "data": {
      "text/latex": [
       "$\\displaystyle \\frac{N^{11}}{11} + \\frac{N^{10}}{2} + \\frac{5 N^{9}}{6} - N^{7} + N^{5} - \\frac{N^{3}}{2} + \\frac{5 N}{66}$"
      ],
      "text/plain": [
       "N**11/11 + N**10/2 + 5*N**9/6 - N**7 + N**5 - N**3/2 + 5*N/66"
      ]
     },
     "metadata": {},
     "output_type": "display_data"
    },
    {
     "name": "stdout",
     "output_type": "stream",
     "text": [
      "----------\n"
     ]
    }
   ],
   "source": [
    "x, N= sym.symbols('x, N') \n",
    "\n",
    "for k in range(11): \n",
    "    f= sym.Sum( x**k, (x, 1, N)) \n",
    "\n",
    "    result= f.doit() #透過f.doit()求解， 而上面的(i, 1, n)的1和n代表開始與結尾\n",
    "\n",
    "     \n",
    "\n",
    "    print(k) #次方數\n",
    "\n",
    "    print(f) #公式\n",
    "\n",
    "    display(f) \n",
    "\n",
    "    display(result) \n",
    "\n",
    "    print(\"-\"*10) "
   ]
  },
  {
   "cell_type": "code",
   "execution_count": null,
   "id": "1744a2f4",
   "metadata": {},
   "outputs": [],
   "source": [
    "(.03)"
   ]
  },
  {
   "cell_type": "code",
   "execution_count": 40,
   "id": "8b668c32",
   "metadata": {},
   "outputs": [
    {
     "name": "stdout",
     "output_type": "stream",
     "text": [
      "0\n",
      "Sum(1, (x, 1, N))\n"
     ]
    },
    {
     "data": {
      "text/latex": [
       "$\\displaystyle \\sum_{x=1}^{N} 1$"
      ],
      "text/plain": [
       "Sum(1, (x, 1, N))"
      ]
     },
     "metadata": {},
     "output_type": "display_data"
    },
    {
     "data": {
      "text/latex": [
       "$\\displaystyle N$"
      ],
      "text/plain": [
       "N"
      ]
     },
     "metadata": {},
     "output_type": "display_data"
    },
    {
     "name": "stdout",
     "output_type": "stream",
     "text": [
      "----------\n",
      "1\n",
      "Sum(x - 1, (x, 1, N))\n"
     ]
    },
    {
     "data": {
      "text/latex": [
       "$\\displaystyle \\sum_{x=1}^{N} \\left(x - 1\\right)$"
      ],
      "text/plain": [
       "Sum(x - 1, (x, 1, N))"
      ]
     },
     "metadata": {},
     "output_type": "display_data"
    },
    {
     "data": {
      "text/latex": [
       "$\\displaystyle \\frac{N^{2}}{2} - \\frac{N}{2}$"
      ],
      "text/plain": [
       "N**2/2 - N/2"
      ]
     },
     "metadata": {},
     "output_type": "display_data"
    },
    {
     "name": "stdout",
     "output_type": "stream",
     "text": [
      "----------\n",
      "2\n",
      "Sum((x - 1)**2, (x, 1, N))\n"
     ]
    },
    {
     "data": {
      "text/latex": [
       "$\\displaystyle \\sum_{x=1}^{N} \\left(x - 1\\right)^{2}$"
      ],
      "text/plain": [
       "Sum((x - 1)**2, (x, 1, N))"
      ]
     },
     "metadata": {},
     "output_type": "display_data"
    },
    {
     "data": {
      "text/latex": [
       "$\\displaystyle \\frac{N^{3}}{3} - \\frac{N^{2}}{2} + \\frac{N}{6}$"
      ],
      "text/plain": [
       "N**3/3 - N**2/2 + N/6"
      ]
     },
     "metadata": {},
     "output_type": "display_data"
    },
    {
     "name": "stdout",
     "output_type": "stream",
     "text": [
      "----------\n",
      "3\n",
      "Sum((x - 1)**3, (x, 1, N))\n"
     ]
    },
    {
     "data": {
      "text/latex": [
       "$\\displaystyle \\sum_{x=1}^{N} \\left(x - 1\\right)^{3}$"
      ],
      "text/plain": [
       "Sum((x - 1)**3, (x, 1, N))"
      ]
     },
     "metadata": {},
     "output_type": "display_data"
    },
    {
     "data": {
      "text/latex": [
       "$\\displaystyle \\frac{N^{4}}{4} - \\frac{N^{3}}{2} + \\frac{N^{2}}{4}$"
      ],
      "text/plain": [
       "N**4/4 - N**3/2 + N**2/4"
      ]
     },
     "metadata": {},
     "output_type": "display_data"
    },
    {
     "name": "stdout",
     "output_type": "stream",
     "text": [
      "----------\n",
      "4\n",
      "Sum((x - 1)**4, (x, 1, N))\n"
     ]
    },
    {
     "data": {
      "text/latex": [
       "$\\displaystyle \\sum_{x=1}^{N} \\left(x - 1\\right)^{4}$"
      ],
      "text/plain": [
       "Sum((x - 1)**4, (x, 1, N))"
      ]
     },
     "metadata": {},
     "output_type": "display_data"
    },
    {
     "data": {
      "text/latex": [
       "$\\displaystyle \\frac{N^{5}}{5} - \\frac{N^{4}}{2} + \\frac{N^{3}}{3} - \\frac{N}{30}$"
      ],
      "text/plain": [
       "N**5/5 - N**4/2 + N**3/3 - N/30"
      ]
     },
     "metadata": {},
     "output_type": "display_data"
    },
    {
     "name": "stdout",
     "output_type": "stream",
     "text": [
      "----------\n",
      "5\n",
      "Sum((x - 1)**5, (x, 1, N))\n"
     ]
    },
    {
     "data": {
      "text/latex": [
       "$\\displaystyle \\sum_{x=1}^{N} \\left(x - 1\\right)^{5}$"
      ],
      "text/plain": [
       "Sum((x - 1)**5, (x, 1, N))"
      ]
     },
     "metadata": {},
     "output_type": "display_data"
    },
    {
     "data": {
      "text/latex": [
       "$\\displaystyle \\frac{N^{6}}{6} - \\frac{N^{5}}{2} + \\frac{5 N^{4}}{12} - \\frac{N^{2}}{12}$"
      ],
      "text/plain": [
       "N**6/6 - N**5/2 + 5*N**4/12 - N**2/12"
      ]
     },
     "metadata": {},
     "output_type": "display_data"
    },
    {
     "name": "stdout",
     "output_type": "stream",
     "text": [
      "----------\n",
      "6\n",
      "Sum((x - 1)**6, (x, 1, N))\n"
     ]
    },
    {
     "data": {
      "text/latex": [
       "$\\displaystyle \\sum_{x=1}^{N} \\left(x - 1\\right)^{6}$"
      ],
      "text/plain": [
       "Sum((x - 1)**6, (x, 1, N))"
      ]
     },
     "metadata": {},
     "output_type": "display_data"
    },
    {
     "data": {
      "text/latex": [
       "$\\displaystyle \\frac{N^{7}}{7} - \\frac{N^{6}}{2} + \\frac{N^{5}}{2} - \\frac{N^{3}}{6} + \\frac{N}{42}$"
      ],
      "text/plain": [
       "N**7/7 - N**6/2 + N**5/2 - N**3/6 + N/42"
      ]
     },
     "metadata": {},
     "output_type": "display_data"
    },
    {
     "name": "stdout",
     "output_type": "stream",
     "text": [
      "----------\n",
      "7\n",
      "Sum((x - 1)**7, (x, 1, N))\n"
     ]
    },
    {
     "data": {
      "text/latex": [
       "$\\displaystyle \\sum_{x=1}^{N} \\left(x - 1\\right)^{7}$"
      ],
      "text/plain": [
       "Sum((x - 1)**7, (x, 1, N))"
      ]
     },
     "metadata": {},
     "output_type": "display_data"
    },
    {
     "data": {
      "text/latex": [
       "$\\displaystyle \\frac{N^{8}}{8} - \\frac{N^{7}}{2} + \\frac{7 N^{6}}{12} - \\frac{7 N^{4}}{24} + \\frac{N^{2}}{12}$"
      ],
      "text/plain": [
       "N**8/8 - N**7/2 + 7*N**6/12 - 7*N**4/24 + N**2/12"
      ]
     },
     "metadata": {},
     "output_type": "display_data"
    },
    {
     "name": "stdout",
     "output_type": "stream",
     "text": [
      "----------\n",
      "8\n",
      "Sum((x - 1)**8, (x, 1, N))\n"
     ]
    },
    {
     "data": {
      "text/latex": [
       "$\\displaystyle \\sum_{x=1}^{N} \\left(x - 1\\right)^{8}$"
      ],
      "text/plain": [
       "Sum((x - 1)**8, (x, 1, N))"
      ]
     },
     "metadata": {},
     "output_type": "display_data"
    },
    {
     "data": {
      "text/latex": [
       "$\\displaystyle \\frac{N^{9}}{9} - \\frac{N^{8}}{2} + \\frac{2 N^{7}}{3} - \\frac{7 N^{5}}{15} + \\frac{2 N^{3}}{9} - \\frac{N}{30}$"
      ],
      "text/plain": [
       "N**9/9 - N**8/2 + 2*N**7/3 - 7*N**5/15 + 2*N**3/9 - N/30"
      ]
     },
     "metadata": {},
     "output_type": "display_data"
    },
    {
     "name": "stdout",
     "output_type": "stream",
     "text": [
      "----------\n",
      "9\n",
      "Sum((x - 1)**9, (x, 1, N))\n"
     ]
    },
    {
     "data": {
      "text/latex": [
       "$\\displaystyle \\sum_{x=1}^{N} \\left(x - 1\\right)^{9}$"
      ],
      "text/plain": [
       "Sum((x - 1)**9, (x, 1, N))"
      ]
     },
     "metadata": {},
     "output_type": "display_data"
    },
    {
     "data": {
      "text/latex": [
       "$\\displaystyle \\frac{N^{10}}{10} - \\frac{N^{9}}{2} + \\frac{3 N^{8}}{4} - \\frac{7 N^{6}}{10} + \\frac{N^{4}}{2} - \\frac{3 N^{2}}{20}$"
      ],
      "text/plain": [
       "N**10/10 - N**9/2 + 3*N**8/4 - 7*N**6/10 + N**4/2 - 3*N**2/20"
      ]
     },
     "metadata": {},
     "output_type": "display_data"
    },
    {
     "name": "stdout",
     "output_type": "stream",
     "text": [
      "----------\n",
      "10\n",
      "Sum((x - 1)**10, (x, 1, N))\n"
     ]
    },
    {
     "data": {
      "text/latex": [
       "$\\displaystyle \\sum_{x=1}^{N} \\left(x - 1\\right)^{10}$"
      ],
      "text/plain": [
       "Sum((x - 1)**10, (x, 1, N))"
      ]
     },
     "metadata": {},
     "output_type": "display_data"
    },
    {
     "data": {
      "text/latex": [
       "$\\displaystyle \\frac{N^{11}}{11} - \\frac{N^{10}}{2} + \\frac{5 N^{9}}{6} - N^{7} + N^{5} - \\frac{N^{3}}{2} + \\frac{5 N}{66}$"
      ],
      "text/plain": [
       "N**11/11 - N**10/2 + 5*N**9/6 - N**7 + N**5 - N**3/2 + 5*N/66"
      ]
     },
     "metadata": {},
     "output_type": "display_data"
    },
    {
     "name": "stdout",
     "output_type": "stream",
     "text": [
      "----------\n"
     ]
    }
   ],
   "source": [
    "x, N= sym.symbols('x, N') \n",
    "\n",
    "for k in range(11): \n",
    "    f= sym.Sum( (x-1)**k, (x, 1, N)) \n",
    "\n",
    "    result= f.doit() #透過f.doit()求解， 而上面的(i, 1, n)的1和n代表開始與結尾\n",
    "\n",
    "     \n",
    "\n",
    "    print(k) #次方數\n",
    "\n",
    "    print(f) #公式\n",
    "\n",
    "    display(f) \n",
    "\n",
    "    display(result) \n",
    "\n",
    "    print(\"-\"*10) "
   ]
  },
  {
   "cell_type": "code",
   "execution_count": null,
   "id": "82a887bf",
   "metadata": {},
   "outputs": [],
   "source": [
    "(.04)"
   ]
  },
  {
   "cell_type": "code",
   "execution_count": 26,
   "id": "c5e5bbaa",
   "metadata": {},
   "outputs": [
    {
     "data": {
      "text/latex": [
       "$\\displaystyle 3628800$"
      ],
      "text/plain": [
       "3628800"
      ]
     },
     "execution_count": 26,
     "metadata": {},
     "output_type": "execute_result"
    }
   ],
   "source": [
    "x = sym.symbols('x')\n",
    "y = sym.symbols('y')\n",
    "f = x**10*(sym.exp(-x))\n",
    "sym.integrate(f, (x, 0, oo))"
   ]
  },
  {
   "cell_type": "code",
   "execution_count": null,
   "id": "6fd40e61",
   "metadata": {},
   "outputs": [],
   "source": [
    "(.05)"
   ]
  },
  {
   "cell_type": "code",
   "execution_count": 65,
   "id": "2682c317",
   "metadata": {},
   "outputs": [
    {
     "data": {
      "text/latex": [
       "$\\displaystyle \\frac{\\partial f}{\\partial x} = \\left(2 - 2 x\\right) e^{- x^{2} + 2 x - y^{2} - 2 y - 2}$"
      ],
      "text/plain": [
       "<IPython.core.display.Math object>"
      ]
     },
     "metadata": {},
     "output_type": "display_data"
    },
    {
     "data": {
      "text/latex": [
       "$\\displaystyle \\frac{\\partial f}{\\partial y} = \\left(- 2 y - 2\\right) e^{- x^{2} + 2 x - y^{2} - 2 y - 2}$"
      ],
      "text/plain": [
       "<IPython.core.display.Math object>"
      ]
     },
     "metadata": {},
     "output_type": "display_data"
    }
   ],
   "source": [
    "from sympy.abc import x,y\n",
    "\n",
    "f = sym.exp((-x**2)-y**2+2*x-2*y-2)\n",
    "\n",
    "display(Math('\\\\frac{\\\\partial f}{\\\\partial x} = %s' %sym.latex(sym.diff(f,x))))\n",
    "display(Math('\\\\frac{\\\\partial f}{\\\\partial y} = %s' %sym.latex(sym.diff(f,y))))"
   ]
  },
  {
   "cell_type": "code",
   "execution_count": null,
   "id": "3e2519a5",
   "metadata": {},
   "outputs": [],
   "source": [
    "\\left(-2x+2\\right)e^{-x^2+2x-y^2-2y-2}\\left(-2y-2\\right)"
   ]
  },
  {
   "cell_type": "code",
   "execution_count": null,
   "id": "f78ccd77",
   "metadata": {},
   "outputs": [],
   "source": [
    "(.06)"
   ]
  },
  {
   "cell_type": "code",
   "execution_count": null,
   "id": "e88a3f18",
   "metadata": {},
   "outputs": [],
   "source": [
    "從方程式可直接得知\n",
    "x=1，y=-1"
   ]
  },
  {
   "cell_type": "code",
   "execution_count": null,
   "id": "4dfe93ba",
   "metadata": {},
   "outputs": [],
   "source": [
    "(.07)"
   ]
  },
  {
   "cell_type": "code",
   "execution_count": 69,
   "id": "8944981e",
   "metadata": {},
   "outputs": [
    {
     "data": {
      "image/png": "[encoded data removed]",
      "text/plain": [
       "<Figure size 432x288 with 1 Axes>"
      ]
     },
     "metadata": {
      "needs_background": "light"
     },
     "output_type": "display_data"
    }
   ],
   "source": [
    "from sympy.abc import x,y\n",
    "\n",
    "f = sym.exp((-x**2)-y**2+2*x-2*y-2)\n",
    "p = sym.plotting.plot3d(f,(x,-1,1),title='$f(x,y)=%s$' %sym.latex(f))"
   ]
  },
  {
   "cell_type": "code",
   "execution_count": null,
   "id": "b37ee9f4",
   "metadata": {},
   "outputs": [],
   "source": [
    "(.08)(.09)"
   ]
  },
  {
   "cell_type": "code",
   "execution_count": null,
   "id": "f5cdf05d",
   "metadata": {},
   "outputs": [],
   "source": [
    "照片"
   ]
  },
  {
   "cell_type": "code",
   "execution_count": null,
   "id": "d13f1017",
   "metadata": {},
   "outputs": [],
   "source": [
    "{2}"
   ]
  },
  {
   "cell_type": "code",
   "execution_count": 77,
   "id": "1cde787f",
   "metadata": {},
   "outputs": [
    {
     "name": "stdout",
     "output_type": "stream",
     "text": [
      "[[5 1]\n",
      " [1 5]]\n",
      "[[10]\n",
      " [20]]\n"
     ]
    }
   ],
   "source": [
    "A = np.array(\n",
    "    [[5,1],\n",
    "     [1,5]])\n",
    "print (A)\n",
    "b = np.array(\n",
    "    [[10],\n",
    "     [20]])\n",
    "print (b)"
   ]
  },
  {
   "cell_type": "code",
   "execution_count": null,
   "id": "a34d5686",
   "metadata": {},
   "outputs": [],
   "source": [
    "(.01)"
   ]
  },
  {
   "cell_type": "code",
   "execution_count": 78,
   "id": "ba7931d1",
   "metadata": {},
   "outputs": [
    {
     "name": "stdout",
     "output_type": "stream",
     "text": [
      "[[ 0.20833333 -0.04166667]\n",
      " [-0.04166667  0.20833333]]\n"
     ]
    }
   ],
   "source": [
    "invA= np.linalg.inv(A)\n",
    "print(invA)"
   ]
  },
  {
   "cell_type": "code",
   "execution_count": null,
   "id": "b1174819",
   "metadata": {},
   "outputs": [],
   "source": [
    "(.02)"
   ]
  },
  {
   "cell_type": "code",
   "execution_count": 79,
   "id": "a9388960",
   "metadata": {},
   "outputs": [
    {
     "data": {
      "text/plain": [
       "array([[ 70],\n",
       "       [110]])"
      ]
     },
     "execution_count": 79,
     "metadata": {},
     "output_type": "execute_result"
    }
   ],
   "source": [
    "Z = A@b\n",
    "Z"
   ]
  },
  {
   "cell_type": "code",
   "execution_count": null,
   "id": "540d957b",
   "metadata": {},
   "outputs": [],
   "source": [
    "(.03)no answer"
   ]
  },
  {
   "cell_type": "code",
   "execution_count": null,
   "id": "17e10c2d",
   "metadata": {},
   "outputs": [],
   "source": [
    "(.04)"
   ]
  },
  {
   "cell_type": "code",
   "execution_count": 80,
   "id": "e5dbe67f",
   "metadata": {},
   "outputs": [
    {
     "data": {
      "text/plain": [
       "array([[10, 20]])"
      ]
     },
     "execution_count": 80,
     "metadata": {},
     "output_type": "execute_result"
    }
   ],
   "source": [
    "b.T"
   ]
  },
  {
   "cell_type": "code",
   "execution_count": 81,
   "id": "ad46927a",
   "metadata": {},
   "outputs": [
    {
     "data": {
      "text/plain": [
       "array([[ 70, 110]])"
      ]
     },
     "execution_count": 81,
     "metadata": {},
     "output_type": "execute_result"
    }
   ],
   "source": [
    "b.T@A"
   ]
  },
  {
   "cell_type": "code",
   "execution_count": null,
   "id": "f92188b1",
   "metadata": {},
   "outputs": [],
   "source": [
    "(.05)否"
   ]
  },
  {
   "cell_type": "code",
   "execution_count": 82,
   "id": "930ffcf6",
   "metadata": {},
   "outputs": [
    {
     "name": "stdout",
     "output_type": "stream",
     "text": [
      "Eigenvalues [6. 4.]\n"
     ]
    }
   ],
   "source": [
    "print (\"Eigenvalues\", np.linalg.eigvals(A))"
   ]
  },
  {
   "cell_type": "code",
   "execution_count": null,
   "id": "c901a6c6",
   "metadata": {},
   "outputs": [],
   "source": [
    "(.06)"
   ]
  },
  {
   "cell_type": "code",
   "execution_count": 83,
   "id": "837ff145",
   "metadata": {},
   "outputs": [
    {
     "name": "stdout",
     "output_type": "stream",
     "text": [
      "[6. 4.]\n",
      "[[ 0.70710678 -0.70710678]\n",
      " [ 0.70710678  0.70710678]]\n",
      "[6. 4.]\n",
      "[[ 0.70710678 -0.70710678]\n",
      " [ 0.70710678  0.70710678]]\n",
      "[6. 4.]\n",
      "[[ 0.70710678 -0.70710678]\n",
      " [ 0.70710678  0.70710678]]\n",
      "[6. 4.]\n",
      "[[ 0.70710678 -0.70710678]\n",
      " [ 0.70710678  0.70710678]]\n",
      "[6. 4.]\n",
      "[[ 0.70710678 -0.70710678]\n",
      " [ 0.70710678  0.70710678]]\n",
      "[6. 4.]\n",
      "[[ 0.70710678 -0.70710678]\n",
      " [ 0.70710678  0.70710678]]\n",
      "[6. 4.]\n",
      "[[ 0.70710678 -0.70710678]\n",
      " [ 0.70710678  0.70710678]]\n",
      "[6. 4.]\n",
      "[[ 0.70710678 -0.70710678]\n",
      " [ 0.70710678  0.70710678]]\n",
      "[6. 4.]\n",
      "[[ 0.70710678 -0.70710678]\n",
      " [ 0.70710678  0.70710678]]\n",
      "[6. 4.]\n",
      "[[ 0.70710678 -0.70710678]\n",
      " [ 0.70710678  0.70710678]]\n",
      "[6. 4.]\n",
      "[[ 0.70710678 -0.70710678]\n",
      " [ 0.70710678  0.70710678]]\n",
      "[6. 4.]\n",
      "[[ 0.70710678 -0.70710678]\n",
      " [ 0.70710678  0.70710678]]\n",
      "[6. 4.]\n",
      "[[ 0.70710678 -0.70710678]\n",
      " [ 0.70710678  0.70710678]]\n",
      "[6. 4.]\n",
      "[[ 0.70710678 -0.70710678]\n",
      " [ 0.70710678  0.70710678]]\n",
      "[6. 4.]\n",
      "[[ 0.70710678 -0.70710678]\n",
      " [ 0.70710678  0.70710678]]\n",
      "[6. 4.]\n",
      "[[ 0.70710678 -0.70710678]\n",
      " [ 0.70710678  0.70710678]]\n",
      "[6. 4.]\n",
      "[[ 0.70710678 -0.70710678]\n",
      " [ 0.70710678  0.70710678]]\n",
      "[6. 4.]\n",
      "[[ 0.70710678 -0.70710678]\n",
      " [ 0.70710678  0.70710678]]\n",
      "[6. 4.]\n",
      "[[ 0.70710678 -0.70710678]\n",
      " [ 0.70710678  0.70710678]]\n",
      "[6. 4.]\n",
      "[[ 0.70710678 -0.70710678]\n",
      " [ 0.70710678  0.70710678]]\n",
      "[6. 4.]\n",
      "[[ 0.70710678 -0.70710678]\n",
      " [ 0.70710678  0.70710678]]\n",
      "[6. 4.]\n",
      "[[ 0.70710678 -0.70710678]\n",
      " [ 0.70710678  0.70710678]]\n",
      "[6. 4.]\n",
      "[[ 0.70710678 -0.70710678]\n",
      " [ 0.70710678  0.70710678]]\n",
      "[6. 4.]\n",
      "[[ 0.70710678 -0.70710678]\n",
      " [ 0.70710678  0.70710678]]\n",
      "[6. 4.]\n",
      "[[ 0.70710678 -0.70710678]\n",
      " [ 0.70710678  0.70710678]]\n",
      "[6. 4.]\n",
      "[[ 0.70710678 -0.70710678]\n",
      " [ 0.70710678  0.70710678]]\n",
      "[6. 4.]\n",
      "[[ 0.70710678 -0.70710678]\n",
      " [ 0.70710678  0.70710678]]\n",
      "[6. 4.]\n",
      "[[ 0.70710678 -0.70710678]\n",
      " [ 0.70710678  0.70710678]]\n",
      "[6. 4.]\n",
      "[[ 0.70710678 -0.70710678]\n",
      " [ 0.70710678  0.70710678]]\n",
      "[6. 4.]\n",
      "[[ 0.70710678 -0.70710678]\n",
      " [ 0.70710678  0.70710678]]\n",
      "[6. 4.]\n",
      "[[ 0.70710678 -0.70710678]\n",
      " [ 0.70710678  0.70710678]]\n",
      "[6. 4.]\n",
      "[[ 0.70710678 -0.70710678]\n",
      " [ 0.70710678  0.70710678]]\n",
      "[6. 4.]\n",
      "[[ 0.70710678 -0.70710678]\n",
      " [ 0.70710678  0.70710678]]\n",
      "[6. 4.]\n",
      "[[ 0.70710678 -0.70710678]\n",
      " [ 0.70710678  0.70710678]]\n",
      "[6. 4.]\n",
      "[[ 0.70710678 -0.70710678]\n",
      " [ 0.70710678  0.70710678]]\n",
      "[6. 4.]\n",
      "[[ 0.70710678 -0.70710678]\n",
      " [ 0.70710678  0.70710678]]\n",
      "[6. 4.]\n",
      "[[ 0.70710678 -0.70710678]\n",
      " [ 0.70710678  0.70710678]]\n",
      "[6. 4.]\n",
      "[[ 0.70710678 -0.70710678]\n",
      " [ 0.70710678  0.70710678]]\n",
      "[6. 4.]\n",
      "[[ 0.70710678 -0.70710678]\n",
      " [ 0.70710678  0.70710678]]\n",
      "[6. 4.]\n",
      "[[ 0.70710678 -0.70710678]\n",
      " [ 0.70710678  0.70710678]]\n",
      "[6. 4.]\n",
      "[[ 0.70710678 -0.70710678]\n",
      " [ 0.70710678  0.70710678]]\n",
      "[6. 4.]\n",
      "[[ 0.70710678 -0.70710678]\n",
      " [ 0.70710678  0.70710678]]\n",
      "[6. 4.]\n",
      "[[ 0.70710678 -0.70710678]\n",
      " [ 0.70710678  0.70710678]]\n",
      "[6. 4.]\n",
      "[[ 0.70710678 -0.70710678]\n",
      " [ 0.70710678  0.70710678]]\n",
      "[6. 4.]\n",
      "[[ 0.70710678 -0.70710678]\n",
      " [ 0.70710678  0.70710678]]\n",
      "[6. 4.]\n",
      "[[ 0.70710678 -0.70710678]\n",
      " [ 0.70710678  0.70710678]]\n",
      "[6. 4.]\n",
      "[[ 0.70710678 -0.70710678]\n",
      " [ 0.70710678  0.70710678]]\n",
      "[6. 4.]\n",
      "[[ 0.70710678 -0.70710678]\n",
      " [ 0.70710678  0.70710678]]\n",
      "[6. 4.]\n",
      "[[ 0.70710678 -0.70710678]\n",
      " [ 0.70710678  0.70710678]]\n",
      "[6. 4.]\n",
      "[[ 0.70710678 -0.70710678]\n",
      " [ 0.70710678  0.70710678]]\n",
      "[6. 4.]\n",
      "[[ 0.70710678 -0.70710678]\n",
      " [ 0.70710678  0.70710678]]\n",
      "[6. 4.]\n",
      "[[ 0.70710678 -0.70710678]\n",
      " [ 0.70710678  0.70710678]]\n",
      "[6. 4.]\n",
      "[[ 0.70710678 -0.70710678]\n",
      " [ 0.70710678  0.70710678]]\n",
      "[6. 4.]\n",
      "[[ 0.70710678 -0.70710678]\n",
      " [ 0.70710678  0.70710678]]\n",
      "[6. 4.]\n",
      "[[ 0.70710678 -0.70710678]\n",
      " [ 0.70710678  0.70710678]]\n",
      "[6. 4.]\n",
      "[[ 0.70710678 -0.70710678]\n",
      " [ 0.70710678  0.70710678]]\n",
      "[6. 4.]\n",
      "[[ 0.70710678 -0.70710678]\n",
      " [ 0.70710678  0.70710678]]\n",
      "[6. 4.]\n",
      "[[ 0.70710678 -0.70710678]\n",
      " [ 0.70710678  0.70710678]]\n",
      "[6. 4.]\n",
      "[[ 0.70710678 -0.70710678]\n",
      " [ 0.70710678  0.70710678]]\n",
      "[6. 4.]\n",
      "[[ 0.70710678 -0.70710678]\n",
      " [ 0.70710678  0.70710678]]\n",
      "[6. 4.]\n",
      "[[ 0.70710678 -0.70710678]\n",
      " [ 0.70710678  0.70710678]]\n",
      "[6. 4.]\n",
      "[[ 0.70710678 -0.70710678]\n",
      " [ 0.70710678  0.70710678]]\n",
      "[6. 4.]\n",
      "[[ 0.70710678 -0.70710678]\n",
      " [ 0.70710678  0.70710678]]\n",
      "[6. 4.]\n",
      "[[ 0.70710678 -0.70710678]\n",
      " [ 0.70710678  0.70710678]]\n",
      "[6. 4.]\n",
      "[[ 0.70710678 -0.70710678]\n",
      " [ 0.70710678  0.70710678]]\n",
      "[6. 4.]\n",
      "[[ 0.70710678 -0.70710678]\n",
      " [ 0.70710678  0.70710678]]\n",
      "[6. 4.]\n",
      "[[ 0.70710678 -0.70710678]\n",
      " [ 0.70710678  0.70710678]]\n",
      "[6. 4.]\n",
      "[[ 0.70710678 -0.70710678]\n",
      " [ 0.70710678  0.70710678]]\n",
      "[6. 4.]\n",
      "[[ 0.70710678 -0.70710678]\n",
      " [ 0.70710678  0.70710678]]\n",
      "[6. 4.]\n",
      "[[ 0.70710678 -0.70710678]\n",
      " [ 0.70710678  0.70710678]]\n",
      "[6. 4.]\n",
      "[[ 0.70710678 -0.70710678]\n",
      " [ 0.70710678  0.70710678]]\n",
      "[6. 4.]\n",
      "[[ 0.70710678 -0.70710678]\n",
      " [ 0.70710678  0.70710678]]\n",
      "[6. 4.]\n",
      "[[ 0.70710678 -0.70710678]\n",
      " [ 0.70710678  0.70710678]]\n",
      "[6. 4.]\n",
      "[[ 0.70710678 -0.70710678]\n",
      " [ 0.70710678  0.70710678]]\n",
      "[6. 4.]\n",
      "[[ 0.70710678 -0.70710678]\n",
      " [ 0.70710678  0.70710678]]\n",
      "[6. 4.]\n",
      "[[ 0.70710678 -0.70710678]\n",
      " [ 0.70710678  0.70710678]]\n",
      "[6. 4.]\n",
      "[[ 0.70710678 -0.70710678]\n",
      " [ 0.70710678  0.70710678]]\n",
      "[6. 4.]\n",
      "[[ 0.70710678 -0.70710678]\n",
      " [ 0.70710678  0.70710678]]\n",
      "[6. 4.]\n",
      "[[ 0.70710678 -0.70710678]\n",
      " [ 0.70710678  0.70710678]]\n",
      "[6. 4.]\n",
      "[[ 0.70710678 -0.70710678]\n",
      " [ 0.70710678  0.70710678]]\n",
      "[6. 4.]\n",
      "[[ 0.70710678 -0.70710678]\n",
      " [ 0.70710678  0.70710678]]\n",
      "[6. 4.]\n",
      "[[ 0.70710678 -0.70710678]\n",
      " [ 0.70710678  0.70710678]]\n",
      "[6. 4.]\n",
      "[[ 0.70710678 -0.70710678]\n",
      " [ 0.70710678  0.70710678]]\n",
      "[6. 4.]\n",
      "[[ 0.70710678 -0.70710678]\n",
      " [ 0.70710678  0.70710678]]\n",
      "[6. 4.]\n",
      "[[ 0.70710678 -0.70710678]\n",
      " [ 0.70710678  0.70710678]]\n",
      "[6. 4.]\n",
      "[[ 0.70710678 -0.70710678]\n",
      " [ 0.70710678  0.70710678]]\n",
      "[6. 4.]\n",
      "[[ 0.70710678 -0.70710678]\n",
      " [ 0.70710678  0.70710678]]\n",
      "[6. 4.]\n",
      "[[ 0.70710678 -0.70710678]\n",
      " [ 0.70710678  0.70710678]]\n",
      "[6. 4.]\n",
      "[[ 0.70710678 -0.70710678]\n",
      " [ 0.70710678  0.70710678]]\n",
      "[6. 4.]\n",
      "[[ 0.70710678 -0.70710678]\n",
      " [ 0.70710678  0.70710678]]\n",
      "[6. 4.]\n",
      "[[ 0.70710678 -0.70710678]\n",
      " [ 0.70710678  0.70710678]]\n",
      "[6. 4.]\n",
      "[[ 0.70710678 -0.70710678]\n",
      " [ 0.70710678  0.70710678]]\n",
      "[6. 4.]\n",
      "[[ 0.70710678 -0.70710678]\n",
      " [ 0.70710678  0.70710678]]\n",
      "[6. 4.]\n",
      "[[ 0.70710678 -0.70710678]\n",
      " [ 0.70710678  0.70710678]]\n",
      "[6. 4.]\n",
      "[[ 0.70710678 -0.70710678]\n",
      " [ 0.70710678  0.70710678]]\n",
      "[6. 4.]\n",
      "[[ 0.70710678 -0.70710678]\n",
      " [ 0.70710678  0.70710678]]\n",
      "[6. 4.]\n",
      "[[ 0.70710678 -0.70710678]\n",
      " [ 0.70710678  0.70710678]]\n",
      "[6. 4.]\n",
      "[[ 0.70710678 -0.70710678]\n",
      " [ 0.70710678  0.70710678]]\n",
      "[6. 4.]\n",
      "[[ 0.70710678 -0.70710678]\n",
      " [ 0.70710678  0.70710678]]\n",
      "[6. 4.]\n",
      "[[ 0.70710678 -0.70710678]\n",
      " [ 0.70710678  0.70710678]]\n"
     ]
    }
   ],
   "source": [
    "for i in range(100):\n",
    "    eigenvalues, eigenvectors = np.linalg.eig(A)\n",
    "    print(eigenvalues)\n",
    "    print(eigenvectors)"
   ]
  },
  {
   "cell_type": "code",
   "execution_count": null,
   "id": "07372a02",
   "metadata": {},
   "outputs": [],
   "source": [
    "(.07)Ax=b => x=A^-1@b"
   ]
  },
  {
   "cell_type": "code",
   "execution_count": 87,
   "id": "ee5e54ea",
   "metadata": {},
   "outputs": [
    {
     "name": "stdout",
     "output_type": "stream",
     "text": [
      "[[1.25]\n",
      " [3.75]]\n"
     ]
    }
   ],
   "source": [
    "seven = invA@b\n",
    "print(seven)"
   ]
  },
  {
   "cell_type": "code",
   "execution_count": null,
   "id": "69a9083d",
   "metadata": {},
   "outputs": [],
   "source": [
    "驗算A@sevenv需等於b"
   ]
  },
  {
   "cell_type": "code",
   "execution_count": 88,
   "id": "5e3e2ca4",
   "metadata": {},
   "outputs": [
    {
     "data": {
      "text/plain": [
       "array([[10.],\n",
       "       [20.]])"
      ]
     },
     "execution_count": 88,
     "metadata": {},
     "output_type": "execute_result"
    }
   ],
   "source": [
    "A@seven"
   ]
  },
  {
   "cell_type": "code",
   "execution_count": null,
   "id": "fc8b4f1b",
   "metadata": {},
   "outputs": [],
   "source": [
    "{3}"
   ]
  },
  {
   "cell_type": "code",
   "execution_count": null,
   "id": "c5b535e2",
   "metadata": {},
   "outputs": [],
   "source": [
    "(.01)"
   ]
  },
  {
   "cell_type": "code",
   "execution_count": null,
   "id": "e8bd7137",
   "metadata": {},
   "outputs": [],
   "source": [
    "probability = 0.99545"
   ]
  },
  {
   "cell_type": "code",
   "execution_count": null,
   "id": "780ebae0",
   "metadata": {},
   "outputs": [],
   "source": [
    "(.02)~(.07)"
   ]
  },
  {
   "cell_type": "code",
   "execution_count": null,
   "id": "0770ce23",
   "metadata": {},
   "outputs": [],
   "source": [
    "照片"
   ]
  }
 ],
 "metadata": {
  "kernelspec": {
   "display_name": "Python 3",
   "language": "python",
   "name": "python3"
  },
  "language_info": {
   "codemirror_mode": {
    "name": "ipython",
    "version": 3
   },
   "file_extension": ".py",
   "mimetype": "text/x-python",
   "name": "python",
   "nbconvert_exporter": "python",
   "pygments_lexer": "ipython3",
   "version": "3.8.8"
  }
 },
 "nbformat": 4,
 "nbformat_minor": 5
}
