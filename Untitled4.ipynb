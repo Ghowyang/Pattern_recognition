{
 "cells": [
  {
   "cell_type": "code",
   "execution_count": 4,
   "id": "6ef656f1",
   "metadata": {},
   "outputs": [],
   "source": [
    "\n",
    "import sympy as sym\n",
    "import matplotlib.pyplot as plt\n",
    "import numpy as np\n",
    "from scipy.signal import find_peaks\n",
    "from IPython.display import display,Math"
   ]
  },
  {
   "cell_type": "code",
   "execution_count": 10,
   "id": "c5e5bbaa",
   "metadata": {},
   "outputs": [
    {
     "data": {
      "text/latex": [
       "$\\displaystyle 4 x + 1$"
      ],
      "text/plain": [
       "4*x + 1"
      ]
     },
     "execution_count": 10,
     "metadata": {},
     "output_type": "execute_result"
    }
   ],
   "source": [
    "x = sym.symbols('x')\n",
    "\n",
    "fx = 2*x**2+x+1\n",
    "\n",
    "sym.diff(fx)"
   ]
  },
  {
   "cell_type": "code",
   "execution_count": 11,
   "id": "3d038c4b",
   "metadata": {},
   "outputs": [
    {
     "data": {
      "text/latex": [
       "$\\displaystyle \\frac{2 x^{3}}{3} + \\frac{x^{2}}{2} + x$"
      ],
      "text/plain": [
       "2*x**3/3 + x**2/2 + x"
      ]
     },
     "execution_count": 11,
     "metadata": {},
     "output_type": "execute_result"
    }
   ],
   "source": [
    "sym.integrate(fx) # notice no constant term"
   ]
  },
  {
   "cell_type": "code",
   "execution_count": null,
   "id": "30be16eb",
   "metadata": {},
   "outputs": [],
   "source": [
    "case1"
   ]
  },
  {
   "cell_type": "code",
   "execution_count": 14,
   "id": "2b0ef847",
   "metadata": {},
   "outputs": [
    {
     "name": "stdout",
     "output_type": "stream",
     "text": [
      "found 2 solutions for x:\n",
      "(k - sqrt(k**2 - 4*k*y + 4*y))/(2*(k - 1))\n",
      "(k + sqrt(k**2 - 4*k*y + 4*y))/(2*(k - 1))\n"
     ]
    }
   ],
   "source": [
    "\n",
    "from __future__ import print_function # still using Python 2.7\n",
    "import sympy\n",
    "\n",
    "# create a symbolic variable for each symbol in our equation\n",
    "y, x, k = sympy.symbols('y, x, k', real=True)\n",
    "\n",
    "# define the equation y = kx - (1-k)x^2\n",
    "fwd_equation= sympy.Eq(y, k*x - (k - 1)*x**2)\n",
    "\n",
    "# solve the equation for x and print solutions\n",
    "inverse= sympy.solve(fwd_equation, x)\n",
    "\n",
    "print('found {} solutions for x:'.format(len(inverse)))\n",
    "print('\\n'.join([str(s) for s in inverse]))"
   ]
  },
  {
   "cell_type": "code",
   "execution_count": 15,
   "id": "b3077411",
   "metadata": {},
   "outputs": [
    {
     "data": {
      "text/latex": [
       "$\\displaystyle y = k x - x^{2} \\left(k - 1\\right)$"
      ],
      "text/plain": [
       "Eq(y, k*x - x**2*(k - 1))"
      ]
     },
     "execution_count": 15,
     "metadata": {},
     "output_type": "execute_result"
    }
   ],
   "source": [
    "fwd_equation"
   ]
  },
  {
   "cell_type": "code",
   "execution_count": 16,
   "id": "657155b0",
   "metadata": {},
   "outputs": [
    {
     "data": {
      "text/plain": [
       "[(k - sqrt(k**2 - 4*k*y + 4*y))/(2*(k - 1)),\n",
       " (k + sqrt(k**2 - 4*k*y + 4*y))/(2*(k - 1))]"
      ]
     },
     "execution_count": 16,
     "metadata": {},
     "output_type": "execute_result"
    }
   ],
   "source": [
    "inverse"
   ]
  },
  {
   "cell_type": "code",
   "execution_count": 17,
   "id": "d9e194bc",
   "metadata": {},
   "outputs": [
    {
     "name": "stdout",
     "output_type": "stream",
     "text": [
      "1.5 - 1.5*sqrt(1 - 0.888888888888889*y)\n",
      "1.83333333333333 - 1.83333333333333*sqrt(1 - 0.793388429752066*y)\n"
     ]
    }
   ],
   "source": [
    "print(inverse[0].subs(k, 1.5).simplify())\n",
    "print(inverse[0].subs(k, 1.375).simplify())"
   ]
  },
  {
   "cell_type": "code",
   "execution_count": 18,
   "id": "be079012",
   "metadata": {},
   "outputs": [
    {
     "name": "stdout",
     "output_type": "stream",
     "text": [
      "x = \\frac{k - \\sqrt{k^{2} - 4 k y + 4 y}}{2 \\left(k - 1\\right)}\n"
     ]
    }
   ],
   "source": [
    "print('x =', sympy.latex(inverse[0]))"
   ]
  },
  {
   "cell_type": "code",
   "execution_count": null,
   "id": "60910bbd",
   "metadata": {},
   "outputs": [],
   "source": [
    "case2"
   ]
  },
  {
   "cell_type": "code",
   "execution_count": 21,
   "id": "c2bd081d",
   "metadata": {},
   "outputs": [
    {
     "name": "stdout",
     "output_type": "stream",
     "text": [
      "found 2 solutions for lQ:\n",
      "{x₁: -cos(p), y₁: -│sin(p)│, z₁: 0}\n",
      "{x₁: -cos(p), y₁: │sin(p)│, z₁: 0}\n",
      "now lQ is Matrix([[-cos(p)], [Abs(sin(p))], [0]])\n"
     ]
    }
   ],
   "source": [
    "from __future__ import print_function # still using Python 2.7\n",
    "import sympy\n",
    "\n",
    "# create some symbols for angles\n",
    "p, q, r = sympy.symbols('p, q, r', real=True)\n",
    "\n",
    "# create some symbols for unknown elements of lQ\n",
    "x1, y1, z1 = sympy.symbols('x1, y1, z1')\n",
    "\n",
    "# define vectors we know so far\n",
    "P = sympy.Matrix([0, 0, 1])\n",
    "lR = sympy.Matrix([1, 0, 0])\n",
    "lQ = sympy.Matrix([x1, y1, z1])\n",
    "\n",
    "lQ_equations = [\n",
    "    sympy.Eq(lQ.dot(P), 0),              # lQ contains P\n",
    "    sympy.Eq(lQ.dot(lR), -sympy.cos(p)), # angle at point P\n",
    "    sympy.Eq(lQ.dot(lQ), 1)              # lQ is a unit vector\n",
    "]\n",
    "\n",
    "S = sympy.solve(lQ_equations, x1, y1, z1, dict=True, simplify=True)\n",
    "print('found {} solutions for lQ:'.format(len(S)))\n",
    "print('\\n'.join([sympy.pretty(sln) for sln in S])) # ask for pretty output\n",
    "\n",
    "lQ = lQ.subs(S[1])\n",
    "print('now lQ is {}'.format(lQ))"
   ]
  },
  {
   "cell_type": "code",
   "execution_count": 22,
   "id": "9156af7f",
   "metadata": {},
   "outputs": [
    {
     "name": "stdout",
     "output_type": "stream",
     "text": [
      "after subbing out abs, lQ is Matrix([[-cos(p)], [sin(p)], [0]])\n"
     ]
    }
   ],
   "source": [
    "lQ = lQ.subs(sympy.Abs(sympy.sin(p)), sympy.sin(p))\n",
    "print('after subbing out abs, lQ is {}'.format(lQ))"
   ]
  },
  {
   "cell_type": "code",
   "execution_count": 24,
   "id": "d06d0071",
   "metadata": {},
   "outputs": [
    {
     "name": "stdout",
     "output_type": "stream",
     "text": [
      "checking our work:\n",
      "  lQ . P  = 0\n",
      "  lQ . lR = -cos(p)\n",
      "  lQ . lQ = sin(p)**2 + cos(p)**2\n"
     ]
    }
   ],
   "source": [
    "print('checking our work:')\n",
    "print('  lQ . P  =', lQ.dot(P))\n",
    "print('  lQ . lR =', lQ.dot(lR))\n",
    "print('  lQ . lQ =', lQ.dot(lQ))"
   ]
  },
  {
   "cell_type": "code",
   "execution_count": 25,
   "id": "58ba9834",
   "metadata": {},
   "outputs": [
    {
     "name": "stdout",
     "output_type": "stream",
     "text": [
      "  lQ . lQ = 1\n"
     ]
    }
   ],
   "source": [
    "print('  lQ . lQ =', lQ.dot(lQ).simplify())"
   ]
  },
  {
   "cell_type": "code",
   "execution_count": 26,
   "id": "c081106d",
   "metadata": {},
   "outputs": [
    {
     "name": "stdout",
     "output_type": "stream",
     "text": [
      "||lP||^2 = 1\n",
      "got 1 solutions for lP\n",
      "⎧                 -(cos(p)⋅cos(q) + cos(r)) ⎫\n",
      "⎨x₂: -cos(q), y₂: ──────────────────────────⎬\n",
      "⎩                           sin(p)          ⎭\n",
      "now lP is Matrix([[-cos(q)], [-(cos(p)*cos(q) + cos(r))/sin(p)], [sqrt(-(cos(p)*cos(q) + cos(r))**2/sin(p)**2 - cos(q)**2 + 1)]])\n"
     ]
    }
   ],
   "source": [
    "x2, y2 = sympy.symbols('x2, y2')\n",
    "z2 = sympy.sqrt(1 - x2**2 - y2**2)\n",
    "\n",
    "lP = sympy.Matrix([x2, y2, z2])\n",
    "print('||lP||^2 =', lP.dot(lP))\n",
    "\n",
    "lP_equations = [\n",
    "    sympy.Eq(lP.dot(lR), -sympy.cos(q)),\n",
    "    sympy.Eq(lP.dot(lQ), -sympy.cos(r)),\n",
    "]\n",
    "\n",
    "S = sympy.solve(lP_equations, x2, y2, dict=True, simplify=True)\n",
    "print('got {} solutions for lP'.format(len(S)))\n",
    "print('\\n'.join([sympy.pretty(sln) for sln in S]))\n",
    "\n",
    "lP = lP.subs(S[0])\n",
    "print('now lP is {}'.format(lP))"
   ]
  },
  {
   "cell_type": "code",
   "execution_count": null,
   "id": "59062acc",
   "metadata": {},
   "outputs": [],
   "source": [
    "case3"
   ]
  },
  {
   "cell_type": "code",
   "execution_count": 34,
   "id": "b4817587",
   "metadata": {},
   "outputs": [],
   "source": [
    "from __future__ import print_function\n",
    "import sympy\n",
    "\n",
    "x, y, u, v, h, s, t, l, rho, phi = sympy.symbols(\n",
    "    'x, y, u, v, h, s, t, l, rho, phi', real=True)\n",
    "\n",
    "cr = sympy.cos(rho)\n",
    "sr = sympy.sin(rho)\n",
    "\n",
    "xp =  (x - u) * cr + (y - v) * sr\n",
    "yp = -(x - u) * sr + (y - v) * cr\n",
    "\n",
    "f = ( h * sympy.exp(-xp**2 / (2*s**2) - yp**2 / (2*t**2) ) *\n",
    "      sympy.cos( 2 * sympy.pi * xp / l + phi ) )"
   ]
  },
  {
   "cell_type": "code",
   "execution_count": 35,
   "id": "98f627b2",
   "metadata": {},
   "outputs": [
    {
     "name": "stdout",
     "output_type": "stream",
     "text": [
      "grad[0] = h*(-((u - x)*sin(rho) + (-v + y)*cos(rho))*sin(rho)/pow(t, 2) + ((-u + x)*cos(rho) + (-v + y)*sin(rho))*cos(rho)/pow(s, 2))*exp(-1.0/2.0*pow((u - x)*sin(rho) + (-v + y)*cos(rho), 2)/pow(t, 2) - 1.0/2.0*pow((-u + x)*cos(rho) + (-v + y)*sin(rho), 2)/pow(s, 2))*cos(phi + 2*M_PI*((-u + x)*cos(rho) + (-v + y)*sin(rho))/l) + 2*M_PI*h*exp(-1.0/2.0*pow((u - x)*sin(rho) + (-v + y)*cos(rho), 2)/pow(t, 2) - 1.0/2.0*pow((-u + x)*cos(rho) + (-v + y)*sin(rho), 2)/pow(s, 2))*sin(phi + 2*M_PI*((-u + x)*cos(rho) + (-v + y)*sin(rho))/l)*cos(rho)/l;\n",
      "grad[1] = h*(((u - x)*sin(rho) + (-v + y)*cos(rho))*cos(rho)/pow(t, 2) + ((-u + x)*cos(rho) + (-v + y)*sin(rho))*sin(rho)/pow(s, 2))*exp(-1.0/2.0*pow((u - x)*sin(rho) + (-v + y)*cos(rho), 2)/pow(t, 2) - 1.0/2.0*pow((-u + x)*cos(rho) + (-v + y)*sin(rho), 2)/pow(s, 2))*cos(phi + 2*M_PI*((-u + x)*cos(rho) + (-v + y)*sin(rho))/l) + 2*M_PI*h*exp(-1.0/2.0*pow((u - x)*sin(rho) + (-v + y)*cos(rho), 2)/pow(t, 2) - 1.0/2.0*pow((-u + x)*cos(rho) + (-v + y)*sin(rho), 2)/pow(s, 2))*sin(rho)*sin(phi + 2*M_PI*((-u + x)*cos(rho) + (-v + y)*sin(rho))/l)/l;\n",
      "grad[2] = exp(-1.0/2.0*pow((u - x)*sin(rho) + (-v + y)*cos(rho), 2)/pow(t, 2) - 1.0/2.0*pow((-u + x)*cos(rho) + (-v + y)*sin(rho), 2)/pow(s, 2))*cos(phi + 2*M_PI*((-u + x)*cos(rho) + (-v + y)*sin(rho))/l);\n",
      "grad[3] = h*pow((-u + x)*cos(rho) + (-v + y)*sin(rho), 2)*exp(-1.0/2.0*pow((u - x)*sin(rho) + (-v + y)*cos(rho), 2)/pow(t, 2) - 1.0/2.0*pow((-u + x)*cos(rho) + (-v + y)*sin(rho), 2)/pow(s, 2))*cos(phi + 2*M_PI*((-u + x)*cos(rho) + (-v + y)*sin(rho))/l)/pow(s, 3);\n",
      "grad[4] = h*pow((u - x)*sin(rho) + (-v + y)*cos(rho), 2)*exp(-1.0/2.0*pow((u - x)*sin(rho) + (-v + y)*cos(rho), 2)/pow(t, 2) - 1.0/2.0*pow((-u + x)*cos(rho) + (-v + y)*sin(rho), 2)/pow(s, 2))*cos(phi + 2*M_PI*((-u + x)*cos(rho) + (-v + y)*sin(rho))/l)/pow(t, 3);\n",
      "grad[5] = 2*M_PI*h*((-u + x)*cos(rho) + (-v + y)*sin(rho))*exp(-1.0/2.0*pow((u - x)*sin(rho) + (-v + y)*cos(rho), 2)/pow(t, 2) - 1.0/2.0*pow((-u + x)*cos(rho) + (-v + y)*sin(rho), 2)/pow(s, 2))*sin(phi + 2*M_PI*((-u + x)*cos(rho) + (-v + y)*sin(rho))/l)/pow(l, 2);\n",
      "grad[6] = h*(-1.0/2.0*((u - x)*sin(rho) + (-v + y)*cos(rho))*(2*(u - x)*cos(rho) - 2*(-v + y)*sin(rho))/pow(t, 2) - 1.0/2.0*(-2*(-u + x)*sin(rho) + 2*(-v + y)*cos(rho))*((-u + x)*cos(rho) + (-v + y)*sin(rho))/pow(s, 2))*exp(-1.0/2.0*pow((u - x)*sin(rho) + (-v + y)*cos(rho), 2)/pow(t, 2) - 1.0/2.0*pow((-u + x)*cos(rho) + (-v + y)*sin(rho), 2)/pow(s, 2))*cos(phi + 2*M_PI*((-u + x)*cos(rho) + (-v + y)*sin(rho))/l) - 2*M_PI*h*(-(-u + x)*sin(rho) + (-v + y)*cos(rho))*exp(-1.0/2.0*pow((u - x)*sin(rho) + (-v + y)*cos(rho), 2)/pow(t, 2) - 1.0/2.0*pow((-u + x)*cos(rho) + (-v + y)*sin(rho), 2)/pow(s, 2))*sin(phi + 2*M_PI*((-u + x)*cos(rho) + (-v + y)*sin(rho))/l)/l;\n",
      "grad[7] = -h*exp(-1.0/2.0*pow((u - x)*sin(rho) + (-v + y)*cos(rho), 2)/pow(t, 2) - 1.0/2.0*pow((-u + x)*cos(rho) + (-v + y)*sin(rho), 2)/pow(s, 2))*sin(phi + 2*M_PI*((-u + x)*cos(rho) + (-v + y)*sin(rho))/l);\n"
     ]
    }
   ],
   "source": [
    "theta = (u, v, h, s, t, l, rho, phi)\n",
    "\n",
    "for i, var in enumerate(theta):\n",
    "    deriv = f.diff(var)\n",
    "    print('grad[{}]'.format(i), '=', sympy.ccode(deriv) + ';')"
   ]
  },
  {
   "cell_type": "code",
   "execution_count": 36,
   "id": "3f6a795a",
   "metadata": {
    "scrolled": true
   },
   "outputs": [
    {
     "name": "stdout",
     "output_type": "stream",
     "text": [
      "double sigma_0 = cos(rho);\n",
      "double sigma_1 = 2*sigma_0;\n",
      "double sigma_2 = -u + x;\n",
      "double sigma_3 = sin(rho);\n",
      "double sigma_4 = -v + y;\n",
      "double sigma_5 = sigma_3*sigma_4;\n",
      "double sigma_6 = sigma_0*sigma_2 + sigma_5;\n",
      "double sigma_7 = M_PI/l;\n",
      "double sigma_8 = 2*sigma_7;\n",
      "double sigma_9 = phi + sigma_6*sigma_8;\n",
      "double sigma_10 = pow(s, -2);\n",
      "double sigma_11 = pow(sigma_6, 2);\n",
      "double sigma_12 = pow(t, -2);\n",
      "double sigma_13 = u - x;\n",
      "double sigma_14 = sigma_0*sigma_4;\n",
      "double sigma_15 = sigma_13*sigma_3 + sigma_14;\n",
      "double sigma_16 = pow(sigma_15, 2);\n",
      "double sigma_17 = exp(-1.0/2.0*sigma_10*sigma_11 - 1.0/2.0*sigma_12*sigma_16);\n",
      "double sigma_18 = h*sigma_17*sin(sigma_9);\n",
      "double sigma_19 = sigma_10*sigma_6;\n",
      "double sigma_20 = sigma_12*sigma_15;\n",
      "double sigma_21 = sigma_17*cos(sigma_9);\n",
      "double sigma_22 = h*sigma_21;\n",
      "double sigma_23 = sigma_18*sigma_8;\n",
      "double sigma_24 = sigma_2*sigma_3;\n",
      "\n",
      "grad[0] = sigma_1*sigma_18*sigma_7 + sigma_22*(sigma_0*sigma_19 - sigma_20*sigma_3);\n",
      "grad[1] = sigma_22*(sigma_0*sigma_20 + sigma_19*sigma_3) + sigma_23*sigma_3;\n",
      "grad[2] = sigma_21;\n",
      "grad[3] = sigma_11*sigma_22/pow(s, 3);\n",
      "grad[4] = sigma_16*sigma_22/pow(t, 3);\n",
      "grad[5] = 2*M_PI*sigma_18*sigma_6/pow(l, 2);\n",
      "grad[6] = sigma_22*(-1.0/2.0*sigma_19*(2*sigma_14 - 2*sigma_24) - 1.0/2.0*sigma_20*(sigma_1*sigma_13 - 2*sigma_5)) - sigma_23*(sigma_14 - sigma_24);\n",
      "grad[7] = -sigma_18;\n"
     ]
    }
   ],
   "source": [
    "derivs = [ f.diff(var) for var in theta ]\n",
    "\n",
    "variable_namer = sympy.numbered_symbols('sigma_')\n",
    "replacements, reduced = sympy.cse(derivs, symbols=variable_namer)\n",
    "\n",
    "for key, val in replacements:\n",
    "    print('double', key, '=', sympy.ccode(val) + ';')\n",
    "\n",
    "print()\n",
    "\n",
    "for i, r in enumerate(reduced):\n",
    "    print('grad[{}]'.format(i), '=', sympy.ccode(r) + ';')"
   ]
  },
  {
   "cell_type": "code",
   "execution_count": 39,
   "id": "e254e9f8",
   "metadata": {},
   "outputs": [
    {
     "data": {
      "text/plain": [
       "(101, 101)"
      ]
     },
     "execution_count": 39,
     "metadata": {},
     "output_type": "execute_result"
    }
   ],
   "source": [
    "xx= np.linspace(-10,10,101)\n",
    "yy= np.linspace(-10,10,101)\n",
    "xm, ym= np.meshgrid(xx,yy)\n",
    "xm.shape"
   ]
  },
  {
   "cell_type": "code",
   "execution_count": 40,
   "id": "14026062",
   "metadata": {},
   "outputs": [
    {
     "data": {
      "text/plain": [
       "array([[[0, 0, 0, 0, 0, 0, 0, 0, 0, 0],\n",
       "        [1, 1, 1, 1, 1, 1, 1, 1, 1, 1],\n",
       "        [2, 2, 2, 2, 2, 2, 2, 2, 2, 2],\n",
       "        [3, 3, 3, 3, 3, 3, 3, 3, 3, 3],\n",
       "        [4, 4, 4, 4, 4, 4, 4, 4, 4, 4],\n",
       "        [5, 5, 5, 5, 5, 5, 5, 5, 5, 5],\n",
       "        [6, 6, 6, 6, 6, 6, 6, 6, 6, 6],\n",
       "        [7, 7, 7, 7, 7, 7, 7, 7, 7, 7],\n",
       "        [8, 8, 8, 8, 8, 8, 8, 8, 8, 8],\n",
       "        [9, 9, 9, 9, 9, 9, 9, 9, 9, 9]],\n",
       "\n",
       "       [[0, 1, 2, 3, 4, 5, 6, 7, 8, 9],\n",
       "        [0, 1, 2, 3, 4, 5, 6, 7, 8, 9],\n",
       "        [0, 1, 2, 3, 4, 5, 6, 7, 8, 9],\n",
       "        [0, 1, 2, 3, 4, 5, 6, 7, 8, 9],\n",
       "        [0, 1, 2, 3, 4, 5, 6, 7, 8, 9],\n",
       "        [0, 1, 2, 3, 4, 5, 6, 7, 8, 9],\n",
       "        [0, 1, 2, 3, 4, 5, 6, 7, 8, 9],\n",
       "        [0, 1, 2, 3, 4, 5, 6, 7, 8, 9],\n",
       "        [0, 1, 2, 3, 4, 5, 6, 7, 8, 9],\n",
       "        [0, 1, 2, 3, 4, 5, 6, 7, 8, 9]]])"
      ]
     },
     "execution_count": 40,
     "metadata": {},
     "output_type": "execute_result"
    }
   ],
   "source": [
    "\n",
    "#np.meshgrid?\n",
    "np.mgrid[0:10, 0:10]"
   ]
  },
  {
   "cell_type": "code",
   "execution_count": 41,
   "id": "4cab97bd",
   "metadata": {},
   "outputs": [
    {
     "data": {
      "text/plain": [
       "array([[0],\n",
       "       [1],\n",
       "       [2],\n",
       "       [3],\n",
       "       [4],\n",
       "       [5],\n",
       "       [6],\n",
       "       [7],\n",
       "       [8],\n",
       "       [9]])"
      ]
     },
     "execution_count": 41,
     "metadata": {},
     "output_type": "execute_result"
    }
   ],
   "source": [
    "xv= np.arange(10).reshape(-1,1)\n",
    "xv"
   ]
  },
  {
   "cell_type": "code",
   "execution_count": 42,
   "id": "00064488",
   "metadata": {},
   "outputs": [
    {
     "data": {
      "text/plain": [
       "array([[1., 1., 1., 1., 1., 1., 1., 1., 1., 1.]])"
      ]
     },
     "execution_count": 42,
     "metadata": {},
     "output_type": "execute_result"
    }
   ],
   "source": [
    "\n",
    "yv= np.ones(10).reshape(1,-1)\n",
    "yv"
   ]
  },
  {
   "cell_type": "code",
   "execution_count": 43,
   "id": "07ee58e7",
   "metadata": {},
   "outputs": [
    {
     "data": {
      "text/plain": [
       "array([[0., 0., 0., 0., 0., 0., 0., 0., 0., 0.],\n",
       "       [1., 1., 1., 1., 1., 1., 1., 1., 1., 1.],\n",
       "       [2., 2., 2., 2., 2., 2., 2., 2., 2., 2.],\n",
       "       [3., 3., 3., 3., 3., 3., 3., 3., 3., 3.],\n",
       "       [4., 4., 4., 4., 4., 4., 4., 4., 4., 4.],\n",
       "       [5., 5., 5., 5., 5., 5., 5., 5., 5., 5.],\n",
       "       [6., 6., 6., 6., 6., 6., 6., 6., 6., 6.],\n",
       "       [7., 7., 7., 7., 7., 7., 7., 7., 7., 7.],\n",
       "       [8., 8., 8., 8., 8., 8., 8., 8., 8., 8.],\n",
       "       [9., 9., 9., 9., 9., 9., 9., 9., 9., 9.]])"
      ]
     },
     "execution_count": 43,
     "metadata": {},
     "output_type": "execute_result"
    }
   ],
   "source": [
    "\n",
    "xm= xv@yv\n",
    "xm"
   ]
  },
  {
   "cell_type": "code",
   "execution_count": 44,
   "id": "905805d0",
   "metadata": {},
   "outputs": [
    {
     "data": {
      "text/plain": [
       "array([[0., 1., 2., 3., 4., 5., 6., 7., 8., 9.],\n",
       "       [0., 1., 2., 3., 4., 5., 6., 7., 8., 9.],\n",
       "       [0., 1., 2., 3., 4., 5., 6., 7., 8., 9.],\n",
       "       [0., 1., 2., 3., 4., 5., 6., 7., 8., 9.],\n",
       "       [0., 1., 2., 3., 4., 5., 6., 7., 8., 9.],\n",
       "       [0., 1., 2., 3., 4., 5., 6., 7., 8., 9.],\n",
       "       [0., 1., 2., 3., 4., 5., 6., 7., 8., 9.],\n",
       "       [0., 1., 2., 3., 4., 5., 6., 7., 8., 9.],\n",
       "       [0., 1., 2., 3., 4., 5., 6., 7., 8., 9.],\n",
       "       [0., 1., 2., 3., 4., 5., 6., 7., 8., 9.]])"
      ]
     },
     "execution_count": 44,
     "metadata": {},
     "output_type": "execute_result"
    }
   ],
   "source": [
    "\n",
    "ym= xm.T\n",
    "ym"
   ]
  },
  {
   "cell_type": "code",
   "execution_count": 47,
   "id": "907c57f3",
   "metadata": {},
   "outputs": [
    {
     "data": {
      "text/plain": [
       "[<matplotlib.lines.Line2D at 0x1d75b4951f0>,\n",
       " <matplotlib.lines.Line2D at 0x1d75b4952e0>,\n",
       " <matplotlib.lines.Line2D at 0x1d75b4952b0>,\n",
       " <matplotlib.lines.Line2D at 0x1d75b495340>,\n",
       " <matplotlib.lines.Line2D at 0x1d75b495430>,\n",
       " <matplotlib.lines.Line2D at 0x1d75b4954f0>,\n",
       " <matplotlib.lines.Line2D at 0x1d75b4955b0>,\n",
       " <matplotlib.lines.Line2D at 0x1d75b495670>,\n",
       " <matplotlib.lines.Line2D at 0x1d75b495730>,\n",
       " <matplotlib.lines.Line2D at 0x1d75b4957f0>]"
      ]
     },
     "execution_count": 47,
     "metadata": {},
     "output_type": "execute_result"
    },
    {
     "data": {
      "image/png": "[encoded data removed]",
      "text/plain": [
       "<Figure size 432x288 with 1 Axes>"
      ]
     },
     "metadata": {
      "needs_background": "light"
     },
     "output_type": "display_data"
    }
   ],
   "source": [
    "plt.plot(xm, ym,'o')"
   ]
  },
  {
   "cell_type": "code",
   "execution_count": 48,
   "id": "6973e113",
   "metadata": {},
   "outputs": [
    {
     "data": {
      "text/plain": [
       "(array([[0],\n",
       "        [1],\n",
       "        [2],\n",
       "        [3],\n",
       "        [4]]),\n",
       " array([[0, 1, 2, 3, 4, 5, 6, 7, 8, 9]]))"
      ]
     },
     "execution_count": 48,
     "metadata": {},
     "output_type": "execute_result"
    }
   ],
   "source": [
    "\n",
    "# meshgrid\n",
    "iv, jv= np.ogrid[0:5, 0:10]\n",
    "iv, jv"
   ]
  },
  {
   "cell_type": "code",
   "execution_count": 49,
   "id": "48e56939",
   "metadata": {},
   "outputs": [
    {
     "data": {
      "text/plain": [
       "(array([[0, 0, 0, 0, 0, 0, 0, 0, 0, 0],\n",
       "        [1, 1, 1, 1, 1, 1, 1, 1, 1, 1],\n",
       "        [2, 2, 2, 2, 2, 2, 2, 2, 2, 2],\n",
       "        [3, 3, 3, 3, 3, 3, 3, 3, 3, 3],\n",
       "        [4, 4, 4, 4, 4, 4, 4, 4, 4, 4]]),\n",
       " array([[0, 1, 2, 3, 4, 5, 6, 7, 8, 9],\n",
       "        [0, 1, 2, 3, 4, 5, 6, 7, 8, 9],\n",
       "        [0, 1, 2, 3, 4, 5, 6, 7, 8, 9],\n",
       "        [0, 1, 2, 3, 4, 5, 6, 7, 8, 9],\n",
       "        [0, 1, 2, 3, 4, 5, 6, 7, 8, 9]]))"
      ]
     },
     "execution_count": 49,
     "metadata": {},
     "output_type": "execute_result"
    }
   ],
   "source": [
    "\n",
    "im= iv @ np.ones_like(jv)\n",
    "jm= np.ones_like(iv) @ jv\n",
    "im, jm"
   ]
  },
  {
   "cell_type": "code",
   "execution_count": 51,
   "id": "260ef69b",
   "metadata": {},
   "outputs": [
    {
     "data": {
      "text/plain": [
       "<matplotlib.collections.PathCollection at 0x1d75b435610>"
      ]
     },
     "execution_count": 51,
     "metadata": {},
     "output_type": "execute_result"
    },
    {
     "data": {
      "image/png": "[encoded data removed]",
      "text/plain": [
       "<Figure size 432x288 with 1 Axes>"
      ]
     },
     "metadata": {
      "needs_background": "light"
     },
     "output_type": "display_data"
    }
   ],
   "source": [
    "import matplotlib.pyplot as plt\n",
    "\n",
    "plt.figure()\n",
    "plt.title('ryMeshgrid')\n",
    "plt.xlabel('x, col: j')\n",
    "plt.ylabel('y, row: i')\n",
    "plt.grid(True)\n",
    "\n",
    "plt.xticks(jv.flatten())\n",
    "plt.yticks(iv.flatten())\n",
    "\n",
    "ym, xm= im, jm\n",
    "\n",
    "plt.scatter(xm,\n",
    "            ym,\n",
    "            color=\"gray\", \n",
    "            marker=\"o\")\n",
    "\n",
    "plt.scatter(jv, \n",
    "            jv*0, \n",
    "            color=\"red\", \n",
    "            marker=\"x\")\n",
    "\n",
    "plt.scatter(iv*0, \n",
    "            iv, \n",
    "            color=\"purple\", \n",
    "            marker=\"^\")"
   ]
  },
  {
   "cell_type": "code",
   "execution_count": 52,
   "id": "0f6a829b",
   "metadata": {},
   "outputs": [
    {
     "data": {
      "text/plain": [
       "<matplotlib.collections.PathCollection at 0x1d75aec95e0>"
      ]
     },
     "execution_count": 52,
     "metadata": {},
     "output_type": "execute_result"
    },
    {
     "data": {
      "image/png": "[encoded data removed]",
      "text/plain": [
       "<Figure size 432x288 with 1 Axes>"
      ]
     },
     "metadata": {
      "needs_background": "light"
     },
     "output_type": "display_data"
    }
   ],
   "source": [
    "import matplotlib.pyplot as plt\n",
    "\n",
    "plt.figure()\n",
    "plt.title('ryMeshgrid')\n",
    "plt.xlabel('x, col: j')\n",
    "plt.ylabel('y, row: i')\n",
    "plt.grid(True)\n",
    "\n",
    "plt.xticks(jv.flatten())\n",
    "plt.yticks(iv.flatten())\n",
    "\n",
    "ym, xm= im, jm\n",
    "\n",
    "plt.scatter(xm,\n",
    "            ym,\n",
    "            color=\"gray\", \n",
    "            marker=\"o\")\n",
    "\n",
    "plt.scatter(jv, \n",
    "            jv*0, \n",
    "            color=\"red\", \n",
    "            marker=\"x\")\n",
    "\n",
    "plt.scatter(iv*0, \n",
    "            iv, \n",
    "            color=\"purple\", \n",
    "            marker=\"^\")"
   ]
  },
  {
   "cell_type": "code",
   "execution_count": 53,
   "id": "608f8403",
   "metadata": {},
   "outputs": [
    {
     "data": {
      "text/plain": [
       "array([[0, 1, 2, 3, 4, 5, 6, 7, 8, 9],\n",
       "       [0, 1, 2, 3, 4, 5, 6, 7, 8, 9],\n",
       "       [0, 1, 2, 3, 4, 5, 6, 7, 8, 9],\n",
       "       [0, 1, 2, 3, 4, 5, 6, 7, 8, 9],\n",
       "       [0, 1, 2, 3, 4, 5, 6, 7, 8, 9]])"
      ]
     },
     "execution_count": 53,
     "metadata": {},
     "output_type": "execute_result"
    }
   ],
   "source": [
    "xm"
   ]
  },
  {
   "cell_type": "code",
   "execution_count": 54,
   "id": "7674a72b",
   "metadata": {},
   "outputs": [
    {
     "data": {
      "text/plain": [
       "array([[0, 0, 0, 0, 0, 0, 0, 0, 0, 0],\n",
       "       [1, 1, 1, 1, 1, 1, 1, 1, 1, 1],\n",
       "       [2, 2, 2, 2, 2, 2, 2, 2, 2, 2],\n",
       "       [3, 3, 3, 3, 3, 3, 3, 3, 3, 3],\n",
       "       [4, 4, 4, 4, 4, 4, 4, 4, 4, 4]])"
      ]
     },
     "execution_count": 54,
     "metadata": {},
     "output_type": "execute_result"
    }
   ],
   "source": [
    "ym"
   ]
  },
  {
   "cell_type": "code",
   "execution_count": 57,
   "id": "f005c3d9",
   "metadata": {},
   "outputs": [
    {
     "data": {
      "text/plain": [
       "<matplotlib.colorbar.Colorbar at 0x1d75ad739a0>"
      ]
     },
     "execution_count": 57,
     "metadata": {},
     "output_type": "execute_result"
    },
    {
     "data": {
      "image/png": "[encoded data removed]",
      "text/plain": [
       "<Figure size 432x288 with 2 Axes>"
      ]
     },
     "metadata": {
      "needs_background": "light"
     },
     "output_type": "display_data"
    }
   ],
   "source": [
    "# 改變2D函數形式，做一些圖來瞧瞧。\n",
    "\n",
    "zm= np.sin(xm)*ym\n",
    "plt.figure()\n",
    "plt.imshow(zm, \n",
    "          origin='lower',  # 用這行 把原點 (0,0) 設在左【下】角\n",
    "          cmap= 'rainbow' #'viridis',\n",
    "          )\n",
    "plt.xlabel('x')\n",
    "plt.ylabel('y')\n",
    "plt.title('z= f(x,y)= sin(x)*y, Rainbow colors map f(x,y) values')\n",
    "plt.colorbar()"
   ]
  },
  {
   "cell_type": "code",
   "execution_count": 58,
   "id": "79d3202d",
   "metadata": {},
   "outputs": [
    {
     "data": {
      "text/plain": [
       "<matplotlib.colorbar.Colorbar at 0x1d75ac5f220>"
      ]
     },
     "execution_count": 58,
     "metadata": {},
     "output_type": "execute_result"
    },
    {
     "data": {
      "image/png": "[encoded data removed]",
      "text/plain": [
       "<Figure size 432x288 with 2 Axes>"
      ]
     },
     "metadata": {
      "needs_background": "light"
     },
     "output_type": "display_data"
    }
   ],
   "source": [
    "\n",
    "# 終於可以用numpy + matplotlib 畫任意 2D 函數圖形\n",
    "def f(x,y):\n",
    "    zx=  (x+10)*(x+5)*(x-1)*(x-5)*(x-10)\n",
    "    zy=  (y+10)*(y+2)*(y+1)*(y-2)*(y-10)\n",
    "    z= zx*zy\n",
    "    \n",
    "    return z\n",
    "\n",
    "ym, xm= np.mgrid[-10:10.1:.1, -10:10.1:.1]\n",
    "zm= f(xm,ym)\n",
    "plt.figure()\n",
    "plt.imshow(zm, \n",
    "          origin='lower',  # 用這行 把原點 (0,0) 設在左【下】角\n",
    "          cmap= 'rainbow' #'viridis'\n",
    "          )\n",
    "plt.xlabel('x')\n",
    "plt.ylabel('y')\n",
    "plt.title('z= f(x,y), Rainbow colors map f(x,y) values')\n",
    "#plt.xticks(np.arange(0,xm[0].size,step=10), xm[0,0::10])\n",
    "#plt.yticks([])#ym[0])\n",
    "# 但是 x,y 軸上的數值標示仍未搞定，\n",
    "# 目前適用矩陣的 index (0,1,2,...)而非 x,y 的真實值\n",
    "\n",
    "plt.colorbar()"
   ]
  },
  {
   "cell_type": "code",
   "execution_count": 59,
   "id": "05fac8b3",
   "metadata": {},
   "outputs": [
    {
     "data": {
      "text/plain": [
       "<mpl_toolkits.mplot3d.art3d.Poly3DCollection at 0x1d75a9d2c70>"
      ]
     },
     "execution_count": 59,
     "metadata": {},
     "output_type": "execute_result"
    },
    {
     "data": {
      "image/png": "[encoded data removed]",
      "text/plain": [
       "<Figure size 432x288 with 1 Axes>"
      ]
     },
     "metadata": {
      "needs_background": "light"
     },
     "output_type": "display_data"
    }
   ],
   "source": [
    "\n",
    "## 試試 3D\n",
    "\n",
    "from mpl_toolkits import mplot3d\n",
    "\n",
    "fg= plt.figure()\n",
    "\n",
    "ax= plt.axes(projection='3d', \n",
    "            xlabel= 'x', \n",
    "            ylabel= 'y', \n",
    "            title= 'z= f(x,y)')\n",
    "\n",
    "#ax.contour3D(xm, ym, zm, 100, cmap='rainbow')\n",
    "\n",
    "'''\n",
    "ax.plot_wireframe(xm, ym, zm,\n",
    "                rstride= 5, \n",
    "                cstride= 5\n",
    "                )\n",
    "'''\n",
    "\n",
    "\n",
    "#'''\n",
    "ax.plot_surface(xm,ym,zm, \n",
    "                rstride= 5, \n",
    "                cstride= 5,\n",
    "                cmap=     'rainbow',  \n",
    "                edgecolor= 'gray'\n",
    "               )\n",
    "#'''"
   ]
  },
  {
   "cell_type": "code",
   "execution_count": 60,
   "id": "fd8cd36e",
   "metadata": {},
   "outputs": [
    {
     "data": {
      "text/plain": [
       "<mpl_toolkits.mplot3d.art3d.Path3DCollection at 0x1d75b2f83a0>"
      ]
     },
     "execution_count": 60,
     "metadata": {},
     "output_type": "execute_result"
    }
   ],
   "source": [
    "# 想畫 z 軸，但仍不好看！\n",
    "\n",
    "zAxis= xm[0] / xm[0].max() * abs(zm).max()\n",
    "zAxis\n",
    "ax.scatter3D(xm[0]*0, \n",
    "             xm[0]*0, \n",
    "             zAxis, \n",
    "             color='magenta')"
   ]
  },
  {
   "cell_type": "code",
   "execution_count": 61,
   "id": "312545e4",
   "metadata": {},
   "outputs": [
    {
     "data": {
      "text/plain": [
       "array([-2.49364746e+08, -2.46871098e+08, -2.44377451e+08, -2.41883803e+08,\n",
       "       -2.39390156e+08, -2.36896508e+08, -2.34402861e+08, -2.31909214e+08,\n",
       "       -2.29415566e+08, -2.26921919e+08, -2.24428271e+08, -2.21934624e+08,\n",
       "       -2.19440976e+08, -2.16947329e+08, -2.14453681e+08, -2.11960034e+08,\n",
       "       -2.09466386e+08, -2.06972739e+08, -2.04479091e+08, -2.01985444e+08,\n",
       "       -1.99491797e+08, -1.96998149e+08, -1.94504502e+08, -1.92010854e+08,\n",
       "       -1.89517207e+08, -1.87023559e+08, -1.84529912e+08, -1.82036264e+08,\n",
       "       -1.79542617e+08, -1.77048969e+08, -1.74555322e+08, -1.72061675e+08,\n",
       "       -1.69568027e+08, -1.67074380e+08, -1.64580732e+08, -1.62087085e+08,\n",
       "       -1.59593437e+08, -1.57099790e+08, -1.54606142e+08, -1.52112495e+08,\n",
       "       -1.49618847e+08, -1.47125200e+08, -1.44631553e+08, -1.42137905e+08,\n",
       "       -1.39644258e+08, -1.37150610e+08, -1.34656963e+08, -1.32163315e+08,\n",
       "       -1.29669668e+08, -1.27176020e+08, -1.24682373e+08, -1.22188725e+08,\n",
       "       -1.19695078e+08, -1.17201430e+08, -1.14707783e+08, -1.12214136e+08,\n",
       "       -1.09720488e+08, -1.07226841e+08, -1.04733193e+08, -1.02239546e+08,\n",
       "       -9.97458983e+07, -9.72522508e+07, -9.47586034e+07, -9.22649559e+07,\n",
       "       -8.97713085e+07, -8.72776610e+07, -8.47840135e+07, -8.22903661e+07,\n",
       "       -7.97967186e+07, -7.73030712e+07, -7.48094237e+07, -7.23157763e+07,\n",
       "       -6.98221288e+07, -6.73284813e+07, -6.48348339e+07, -6.23411864e+07,\n",
       "       -5.98475390e+07, -5.73538915e+07, -5.48602441e+07, -5.23665966e+07,\n",
       "       -4.98729491e+07, -4.73793017e+07, -4.48856542e+07, -4.23920068e+07,\n",
       "       -3.98983593e+07, -3.74047119e+07, -3.49110644e+07, -3.24174169e+07,\n",
       "       -2.99237695e+07, -2.74301220e+07, -2.49364746e+07, -2.24428271e+07,\n",
       "       -1.99491797e+07, -1.74555322e+07, -1.49618847e+07, -1.24682373e+07,\n",
       "       -9.97458983e+06, -7.48094237e+06, -4.98729491e+06, -2.49364746e+06,\n",
       "        0.00000000e+00,  2.49364746e+06,  4.98729491e+06,  7.48094237e+06,\n",
       "        9.97458983e+06,  1.24682373e+07,  1.49618847e+07,  1.74555322e+07,\n",
       "        1.99491797e+07,  2.24428271e+07,  2.49364746e+07,  2.74301220e+07,\n",
       "        2.99237695e+07,  3.24174169e+07,  3.49110644e+07,  3.74047119e+07,\n",
       "        3.98983593e+07,  4.23920068e+07,  4.48856542e+07,  4.73793017e+07,\n",
       "        4.98729491e+07,  5.23665966e+07,  5.48602441e+07,  5.73538915e+07,\n",
       "        5.98475390e+07,  6.23411864e+07,  6.48348339e+07,  6.73284813e+07,\n",
       "        6.98221288e+07,  7.23157763e+07,  7.48094237e+07,  7.73030712e+07,\n",
       "        7.97967186e+07,  8.22903661e+07,  8.47840135e+07,  8.72776610e+07,\n",
       "        8.97713085e+07,  9.22649559e+07,  9.47586034e+07,  9.72522508e+07,\n",
       "        9.97458983e+07,  1.02239546e+08,  1.04733193e+08,  1.07226841e+08,\n",
       "        1.09720488e+08,  1.12214136e+08,  1.14707783e+08,  1.17201430e+08,\n",
       "        1.19695078e+08,  1.22188725e+08,  1.24682373e+08,  1.27176020e+08,\n",
       "        1.29669668e+08,  1.32163315e+08,  1.34656963e+08,  1.37150610e+08,\n",
       "        1.39644258e+08,  1.42137905e+08,  1.44631553e+08,  1.47125200e+08,\n",
       "        1.49618847e+08,  1.52112495e+08,  1.54606142e+08,  1.57099790e+08,\n",
       "        1.59593437e+08,  1.62087085e+08,  1.64580732e+08,  1.67074380e+08,\n",
       "        1.69568027e+08,  1.72061675e+08,  1.74555322e+08,  1.77048969e+08,\n",
       "        1.79542617e+08,  1.82036264e+08,  1.84529912e+08,  1.87023559e+08,\n",
       "        1.89517207e+08,  1.92010854e+08,  1.94504502e+08,  1.96998149e+08,\n",
       "        1.99491797e+08,  2.01985444e+08,  2.04479091e+08,  2.06972739e+08,\n",
       "        2.09466386e+08,  2.11960034e+08,  2.14453681e+08,  2.16947329e+08,\n",
       "        2.19440976e+08,  2.21934624e+08,  2.24428271e+08,  2.26921919e+08,\n",
       "        2.29415566e+08,  2.31909214e+08,  2.34402861e+08,  2.36896508e+08,\n",
       "        2.39390156e+08,  2.41883803e+08,  2.44377451e+08,  2.46871098e+08,\n",
       "        2.49364746e+08])"
      ]
     },
     "execution_count": 61,
     "metadata": {},
     "output_type": "execute_result"
    }
   ],
   "source": [
    "zAxis= xm[0] / xm[0].max() * abs(zm).max()\n",
    "zAxis"
   ]
  },
  {
   "cell_type": "code",
   "execution_count": 62,
   "id": "5a501fc5",
   "metadata": {},
   "outputs": [
    {
     "data": {
      "text/plain": [
       "array([  0,  21,  21,  21,  21,  21,  21,  21,  21,  21,  21,  21,  21,\n",
       "        21,  21,  21,  21,  21,  21,  21,  21,  21,  21,  21,  21,  21,\n",
       "        21,  21,  21,  21,  21,  21,  21,  21,  21,  21,  21,  21,  21,\n",
       "        21,  21,  21,  21,  21,  21,  21,  21,  21,  21,  21,   0, 178,\n",
       "       178, 178, 178, 178, 178, 178, 178, 178, 178, 178, 178, 178, 178,\n",
       "       178, 178, 178, 178, 178, 178, 178, 178, 178, 178, 178, 178, 178,\n",
       "       178, 178, 178, 178, 178, 178, 178, 178, 178, 178, 178, 178, 178,\n",
       "       178, 178, 178, 178, 178, 178, 178, 178, 178, 178, 178, 178, 178,\n",
       "       178, 178, 178, 178, 178, 178,   0,  21,  21,  21,  21,  21,  21,\n",
       "        21,  21,  21,  21,  21,  21,  21,  21,  21,  21,  21,  21,  21,\n",
       "        21,  21,  21,  21,  21,  21,  21,  21,  21,  21,  21,  21,  21,\n",
       "        21,  21,  21,  21,  21,  21,  21,   0, 178, 178, 178, 178, 178,\n",
       "       178, 178, 178, 178, 178, 178, 178, 178, 178, 178, 178, 178, 178,\n",
       "       178, 178, 178, 178, 178, 178, 178, 178, 178, 178, 178, 178, 178,\n",
       "       178, 178, 178, 178, 178, 178, 178, 178, 178, 178, 178, 178, 178,\n",
       "       178, 178, 178, 178, 178,   0], dtype=int64)"
      ]
     },
     "execution_count": 62,
     "metadata": {},
     "output_type": "execute_result"
    }
   ],
   "source": [
    "zm.argmax(axis=0)"
   ]
  },
  {
   "cell_type": "code",
   "execution_count": 63,
   "id": "a09e7651",
   "metadata": {},
   "outputs": [
    {
     "data": {
      "text/plain": [
       "array([ 0.00000000e+00, -3.10199681e+07, -5.95115578e+07, -8.55787376e+07,\n",
       "       -1.09323126e+08, -1.30844013e+08, -1.50238387e+08, -1.67600956e+08,\n",
       "       -1.83024170e+08, -1.96598249e+08, -2.08411199e+08, -2.18548845e+08,\n",
       "       -2.27094846e+08, -2.34130724e+08, -2.39735885e+08, -2.43987642e+08,\n",
       "       -2.46961241e+08, -2.48729883e+08, -2.49364746e+08, -2.48935011e+08,\n",
       "       -2.47507887e+08, -2.45148627e+08, -2.41920561e+08, -2.37885113e+08,\n",
       "       -2.33101828e+08, -2.27628391e+08, -2.21520658e+08, -2.14832673e+08,\n",
       "       -2.07616692e+08, -1.99923210e+08, -1.91800983e+08, -1.83297050e+08,\n",
       "       -1.74456759e+08, -1.65323787e+08, -1.55940167e+08, -1.46346310e+08,\n",
       "       -1.36581029e+08, -1.26681562e+08, -1.16683595e+08, -1.06621287e+08,\n",
       "       -9.65272923e+07, -8.64327844e+07, -7.63674795e+07, -6.63596601e+07,\n",
       "       -5.64361983e+07, -4.66225793e+07, -3.69429253e+07, -2.74200184e+07,\n",
       "       -1.80753247e+07, -8.92901722e+06, -0.00000000e+00, -6.72438040e+06,\n",
       "       -1.32543290e+07, -1.95780607e+07, -2.56846995e+07, -3.15642601e+07,\n",
       "       -3.72076298e+07, -4.26065505e+07, -4.77536001e+07, -5.26421750e+07,\n",
       "       -5.72664712e+07, -6.16214665e+07, -6.57029023e+07, -6.95072653e+07,\n",
       "       -7.30317695e+07, -7.62743379e+07, -7.92335842e+07, -8.19087948e+07,\n",
       "       -8.42999107e+07, -8.64075091e+07, -8.82327853e+07, -8.97775346e+07,\n",
       "       -9.10441339e+07, -9.20355239e+07, -9.27551906e+07, -9.32071472e+07,\n",
       "       -9.33959158e+07, -9.33265096e+07, -9.30044143e+07, -9.24355702e+07,\n",
       "       -9.16263539e+07, -9.05835601e+07, -8.93143835e+07, -8.78264004e+07,\n",
       "       -8.61275510e+07, -8.42261207e+07, -8.21307222e+07, -7.98502772e+07,\n",
       "       -7.73939985e+07, -7.47713712e+07, -7.19921352e+07, -6.90662668e+07,\n",
       "       -6.60039603e+07, -6.28156100e+07, -5.95117920e+07, -5.61032460e+07,\n",
       "       -5.26008573e+07, -4.90156382e+07, -4.53587103e+07, -4.16412859e+07,\n",
       "       -3.78746503e+07, -3.40701430e+07, -3.02391402e+07, -2.63930359e+07,\n",
       "       -2.25432245e+07, -1.87010820e+07, -1.48779480e+07, -1.10851076e+07,\n",
       "       -7.33377337e+06, -3.63506668e+06,  0.00000000e+00, -4.60348627e+06,\n",
       "       -9.09673202e+06, -1.34660632e+07, -1.76980409e+07, -2.17794845e+07,\n",
       "       -2.56974957e+07, -2.94394818e+07, -3.29931789e+07, -3.63466759e+07,\n",
       "       -3.94884377e+07, -4.24073288e+07, -4.50926368e+07, -4.75340959e+07,\n",
       "       -4.97219103e+07, -5.16467779e+07, -5.32999137e+07, -5.46730734e+07,\n",
       "       -5.57585767e+07, -5.65493309e+07, -5.70388545e+07, -5.72213007e+07,\n",
       "       -5.70914807e+07, -5.66448874e+07, -5.58777189e+07, -5.47869020e+07,\n",
       "       -5.33701154e+07, -5.16258137e+07, -4.95532508e+07, -4.71525028e+07,\n",
       "       -4.44244925e+07, -4.13710120e+07, -3.79947468e+07, -3.42992992e+07,\n",
       "       -3.02892113e+07, -2.59699893e+07, -2.13481264e+07, -1.64311266e+07,\n",
       "       -1.12275281e+07, -5.74692687e+06, -0.00000000e+00, -4.64180488e+06,\n",
       "       -9.47049994e+06, -1.44752091e+07, -1.96441473e+07, -2.49646023e+07,\n",
       "       -3.04229165e+07, -3.60044687e+07, -4.16936561e+07, -4.74738760e+07,\n",
       "       -5.33275076e+07, -5.92358938e+07, -6.51793231e+07, -7.11370115e+07,\n",
       "       -7.70870841e+07, -8.30065570e+07, -8.88713192e+07, -9.46561143e+07,\n",
       "       -1.00334523e+08, -1.05878943e+08, -1.11260573e+08, -1.16449394e+08,\n",
       "       -1.21414149e+08, -1.26122330e+08, -1.30540154e+08, -1.34632546e+08,\n",
       "       -1.38363125e+08, -1.41694180e+08, -1.44586658e+08, -1.47000140e+08,\n",
       "       -1.48892825e+08, -1.50221515e+08, -1.50941590e+08, -1.51006998e+08,\n",
       "       -1.50370230e+08, -1.48982304e+08, -1.46792749e+08, -1.43749584e+08,\n",
       "       -1.39799302e+08, -1.34886849e+08, -1.28955609e+08, -1.21947384e+08,\n",
       "       -1.13802375e+08, -1.04459167e+08, -9.38547069e+07, -8.19242888e+07,\n",
       "       -6.86015335e+07, -5.38183711e+07, -3.75050228e+07, -1.95899828e+07,\n",
       "        0.00000000e+00])"
      ]
     },
     "execution_count": 63,
     "metadata": {},
     "output_type": "execute_result"
    }
   ],
   "source": [
    "zm.min(axis=0)"
   ]
  },
  {
   "cell_type": "code",
   "execution_count": 64,
   "id": "626ba4ca",
   "metadata": {},
   "outputs": [
    {
     "data": {
      "text/plain": [
       "195239585.34117356"
      ]
     },
     "execution_count": 64,
     "metadata": {},
     "output_type": "execute_result"
    }
   ],
   "source": [
    "zm.max()"
   ]
  },
  {
   "cell_type": "code",
   "execution_count": 65,
   "id": "7bb43296",
   "metadata": {},
   "outputs": [
    {
     "data": {
      "text/plain": [
       "(array([178], dtype=int64), array([183], dtype=int64))"
      ]
     },
     "execution_count": 65,
     "metadata": {},
     "output_type": "execute_result"
    }
   ],
   "source": [
    "ii, jj= np.where(zm == zm.max())\n",
    "ii, jj"
   ]
  },
  {
   "cell_type": "code",
   "execution_count": 66,
   "id": "f81663e0",
   "metadata": {},
   "outputs": [
    {
     "data": {
      "text/plain": [
       "array([1.95239585e+08])"
      ]
     },
     "execution_count": 66,
     "metadata": {},
     "output_type": "execute_result"
    }
   ],
   "source": [
    "zm[ii,jj]"
   ]
  },
  {
   "cell_type": "code",
   "execution_count": 67,
   "id": "11343457",
   "metadata": {},
   "outputs": [
    {
     "data": {
      "text/plain": [
       "195239585.34117356"
      ]
     },
     "execution_count": 67,
     "metadata": {},
     "output_type": "execute_result"
    }
   ],
   "source": [
    "zm.max()"
   ]
  },
  {
   "cell_type": "code",
   "execution_count": 68,
   "id": "b3a8311e",
   "metadata": {},
   "outputs": [
    {
     "data": {
      "text/plain": [
       "(array([178], dtype=int64), array([183], dtype=int64))"
      ]
     },
     "execution_count": 68,
     "metadata": {},
     "output_type": "execute_result"
    }
   ],
   "source": [
    "ii,jj"
   ]
  },
  {
   "cell_type": "code",
   "execution_count": 70,
   "id": "396c38ff",
   "metadata": {},
   "outputs": [
    {
     "data": {
      "text/plain": [
       "(array([178], dtype=int64),\n",
       " array([183], dtype=int64),\n",
       " array([178], dtype=int64),\n",
       " array([18], dtype=int64))"
      ]
     },
     "execution_count": 70,
     "metadata": {},
     "output_type": "execute_result"
    }
   ],
   "source": [
    "\n",
    "# 找最高與最低\n",
    "zm.max(), zm.argmax()\n",
    "zm.min(), zm.argmin()\n",
    "imax, jmax= np.where(zm==zm.max())\n",
    "imin, jmin= np.where(zm==zm.min())\n",
    "imax, jmax, imin, jmin"
   ]
  },
  {
   "cell_type": "code",
   "execution_count": 72,
   "id": "f6bc8edc",
   "metadata": {},
   "outputs": [
    {
     "data": {
      "text/plain": [
       "Text([18], [178], 'min')"
      ]
     },
     "execution_count": 72,
     "metadata": {},
     "output_type": "execute_result"
    },
    {
     "data": {
      "image/png": "[encoded data removed]",
      "text/plain": [
       "<Figure size 432x288 with 2 Axes>"
      ]
     },
     "metadata": {
      "needs_background": "light"
     },
     "output_type": "display_data"
    }
   ],
   "source": [
    "plt.figure()\n",
    "plt.imshow(zm, \n",
    "          origin='lower',  # 用這行 把原點 (0,0) 設在左【下】角\n",
    "          cmap= 'rainbow' #'viridis'\n",
    "          )\n",
    "\n",
    "plt.xlabel('x')\n",
    "plt.ylabel('y')\n",
    "plt.title('z= f(x,y), Finding the max and min')\n",
    "\n",
    "plt.colorbar()\n",
    "\n",
    "# 注意 .plot() 與 .imshow() 的座標對應 .plot(x,y) ==> .imshow(i,j)\n",
    "# x,y = j,i\n",
    "xmax, ymax= jmax, imax\n",
    "xmin, ymin= jmin, imin\n",
    "\n",
    "plt.plot(xmax, ymax, 'wx')\n",
    "plt.plot(xmin, ymin, 'wo')\n",
    "plt.text(xmax, ymax, 'max', color='b')\n",
    "plt.text(xmin, ymin, 'min', color='y')"
   ]
  },
  {
   "cell_type": "code",
   "execution_count": null,
   "id": "d6cc8a34",
   "metadata": {},
   "outputs": [],
   "source": []
  }
 ],
 "metadata": {
  "kernelspec": {
   "display_name": "Python 3",
   "language": "python",
   "name": "python3"
  },
  "language_info": {
   "codemirror_mode": {
    "name": "ipython",
    "version": 3
   },
   "file_extension": ".py",
   "mimetype": "text/x-python",
   "name": "python",
   "nbconvert_exporter": "python",
   "pygments_lexer": "ipython3",
   "version": "3.8.8"
  }
 },
 "nbformat": 4,
 "nbformat_minor": 5
}
