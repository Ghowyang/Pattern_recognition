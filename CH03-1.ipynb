{
 "cells": [
  {
   "cell_type": "code",
   "execution_count": 186,
   "id": "7fe9e279",
   "metadata": {},
   "outputs": [],
   "source": [
    "#Binomial Distribution"
   ]
  },
  {
   "cell_type": "code",
   "execution_count": 187,
   "id": "4699f476",
   "metadata": {},
   "outputs": [],
   "source": [
    "from scipy.stats import binom\n",
    "import numpy as np\n",
    "import scipy as sp\n",
    "import matplotlib.pyplot as pl\n",
    "import scipy.stats as st\n",
    "from scipy.stats import norm"
   ]
  },
  {
   "cell_type": "code",
   "execution_count": 188,
   "id": "69a0690b",
   "metadata": {},
   "outputs": [
    {
     "data": {
      "text/plain": [
       "array([3, 3, 4, 4, 3, 2, 3, 4, 2, 2, 1, 3, 2, 6, 3, 0, 3, 2, 4, 2, 2, 2,\n",
       "       1, 5, 2, 3, 5, 4, 2, 2, 2, 4, 4, 5, 3, 2, 3, 2, 2, 3, 3, 3, 3, 3,\n",
       "       3, 1, 3, 5, 5, 4, 2, 2, 2, 5, 2, 4, 1, 6, 3, 4, 2, 3, 2, 3, 4, 2,\n",
       "       1, 3, 4, 1, 3, 3, 5, 1, 2, 2, 4, 0, 3, 4, 3, 3, 3, 4, 2, 0, 3, 7,\n",
       "       0, 4, 3, 4, 4, 4, 4, 3, 3, 1, 3, 4])"
      ]
     },
     "execution_count": 188,
     "metadata": {},
     "output_type": "execute_result"
    }
   ],
   "source": [
    "N=    10\n",
    "prob= 0.3\n",
    "sampSize= 100\n",
    "k= np.arange(0, n+1)\n",
    "\n",
    "X= st.binom.rvs(n= N, p= prob, size= sampSize)\n",
    "X"
   ]
  },
  {
   "cell_type": "code",
   "execution_count": 189,
   "id": "5082f296",
   "metadata": {},
   "outputs": [
    {
     "data": {
      "text/plain": [
       "(2.92, 1.7536)"
      ]
     },
     "execution_count": 189,
     "metadata": {},
     "output_type": "execute_result"
    }
   ],
   "source": [
    "X.mean(), X.var()"
   ]
  },
  {
   "cell_type": "code",
   "execution_count": 190,
   "id": "fc55f243",
   "metadata": {},
   "outputs": [
    {
     "data": {
      "text/plain": [
       "array(0.70710678)"
      ]
     },
     "execution_count": 190,
     "metadata": {},
     "output_type": "execute_result"
    }
   ],
   "source": [
    "skew"
   ]
  },
  {
   "cell_type": "code",
   "execution_count": 191,
   "id": "09f1039e",
   "metadata": {},
   "outputs": [
    {
     "data": {
      "text/plain": [
       "(array(4.), array(2.4), array(0.12909944), array(-0.18333333))"
      ]
     },
     "execution_count": 191,
     "metadata": {},
     "output_type": "execute_result"
    }
   ],
   "source": [
    "kurt = binom.stats(n, p, moments='mvsk')\n",
    "kurt"
   ]
  },
  {
   "cell_type": "code",
   "execution_count": 192,
   "id": "9ce11498",
   "metadata": {},
   "outputs": [],
   "source": [
    "\n",
    "μ, v= st.binom.stats(n, p)\n"
   ]
  },
  {
   "cell_type": "code",
   "execution_count": 193,
   "id": "94a8fd06",
   "metadata": {},
   "outputs": [
    {
     "data": {
      "text/plain": [
       "array(1.77907878)"
      ]
     },
     "execution_count": 193,
     "metadata": {},
     "output_type": "execute_result"
    }
   ],
   "source": [
    "entropy = st.binom.entropy(n=N, p=prob)\n",
    "entropy"
   ]
  },
  {
   "cell_type": "code",
   "execution_count": 194,
   "id": "321bceac",
   "metadata": {},
   "outputs": [
    {
     "data": {
      "text/plain": [
       "array([2.82475249e-02, 1.21060821e-01, 2.33474440e-01, 2.66827932e-01,\n",
       "       2.00120949e-01, 1.02919345e-01, 3.67569090e-02, 9.00169200e-03,\n",
       "       1.44670050e-03, 1.37781000e-04, 5.90490000e-06])"
      ]
     },
     "execution_count": 194,
     "metadata": {},
     "output_type": "execute_result"
    },
    {
     "data": {
      "image/png": "[encoded data removed]",
      "text/plain": [
       "<Figure size 432x288 with 1 Axes>"
      ]
     },
     "metadata": {
      "needs_background": "light"
     },
     "output_type": "display_data"
    }
   ],
   "source": [
    "q= st.binom.pmf(k, n=N, p=prob)\n",
    "pl.stem(q)\n",
    "pl.title('pmf')\n",
    "q\n"
   ]
  },
  {
   "cell_type": "code",
   "execution_count": 195,
   "id": "d81e928b",
   "metadata": {},
   "outputs": [
    {
     "data": {
      "text/plain": [
       "array([0.02824752, 0.14930835, 0.38278279, 0.64961072, 0.84973167,\n",
       "       0.95265101, 0.98940792, 0.99840961, 0.99985631, 0.9999941 ,\n",
       "       1.        ])"
      ]
     },
     "execution_count": 195,
     "metadata": {},
     "output_type": "execute_result"
    },
    {
     "data": {
      "image/png": "[encoded data removed]",
      "text/plain": [
       "<Figure size 432x288 with 1 Axes>"
      ]
     },
     "metadata": {
      "needs_background": "light"
     },
     "output_type": "display_data"
    }
   ],
   "source": [
    "q= st.binom.cdf(k, n=N, p=prob)\n",
    "pl.stem(q)\n",
    "pl.title('cdf')\n",
    "q"
   ]
  },
  {
   "cell_type": "code",
   "execution_count": 196,
   "id": "4672d52a",
   "metadata": {},
   "outputs": [
    {
     "data": {
      "text/plain": [
       "array([ 1.,  2.,  2.,  3.,  3.,  3.,  4.,  4.,  5., 10.])"
      ]
     },
     "execution_count": 196,
     "metadata": {},
     "output_type": "execute_result"
    },
    {
     "data": {
      "image/png": "[encoded data removed]",
      "text/plain": [
       "<Figure size 432x288 with 1 Axes>"
      ]
     },
     "metadata": {
      "needs_background": "light"
     },
     "output_type": "display_data"
    }
   ],
   "source": [
    "pp= np.linspace(.1,1,10)\n",
    "kk= st.binom.ppf(pp, n=N, p=prob)\n",
    "pl.barh(pp, kk, height= .01, align= 'edge')\n",
    "pl.title('ppf')\n",
    "kk"
   ]
  },
  {
   "cell_type": "code",
   "execution_count": 197,
   "id": "77ca6fd4",
   "metadata": {},
   "outputs": [
    {
     "data": {
      "text/plain": [
       "Text(0.5, 1.0, 'binom.pdf')"
      ]
     },
     "execution_count": 197,
     "metadata": {},
     "output_type": "execute_result"
    },
    {
     "data": {
      "image/png": "[encoded data removed]",
      "text/plain": [
       "<Figure size 432x288 with 1 Axes>"
      ]
     },
     "metadata": {
      "needs_background": "light"
     },
     "output_type": "display_data"
    }
   ],
   "source": [
    "q= st.norm.pdf(X)\n",
    "plt.stem(q)\n",
    "plt.title('binom.pdf')"
   ]
  },
  {
   "cell_type": "code",
   "execution_count": 198,
   "id": "36e05f1a",
   "metadata": {},
   "outputs": [],
   "source": [
    "#Poisson Distribution "
   ]
  },
  {
   "cell_type": "code",
   "execution_count": 199,
   "id": "85d43540",
   "metadata": {},
   "outputs": [],
   "source": [
    "from scipy.stats import poisson"
   ]
  },
  {
   "cell_type": "code",
   "execution_count": 200,
   "id": "80868a36",
   "metadata": {},
   "outputs": [
    {
     "data": {
      "text/plain": [
       "Text(0.5, 1.0, 'poisson.pmf')"
      ]
     },
     "execution_count": 200,
     "metadata": {},
     "output_type": "execute_result"
    },
    {
     "data": {
      "image/png": "[encoded data removed]",
      "text/plain": [
       "<Figure size 432x288 with 1 Axes>"
      ]
     },
     "metadata": {
      "needs_background": "light"
     },
     "output_type": "display_data"
    }
   ],
   "source": [
    "q= st.poisson(μ).pmf(k)\n",
    "plt.stem(q)\n",
    "plt.title('poisson.pmf')"
   ]
  },
  {
   "cell_type": "code",
   "execution_count": 201,
   "id": "7257367a",
   "metadata": {},
   "outputs": [
    {
     "data": {
      "text/plain": [
       "Text(0.5, 1.0, 'poisson.cdf')"
      ]
     },
     "execution_count": 201,
     "metadata": {},
     "output_type": "execute_result"
    },
    {
     "data": {
      "image/png": "[encoded data removed]",
      "text/plain": [
       "<Figure size 432x288 with 1 Axes>"
      ]
     },
     "metadata": {
      "needs_background": "light"
     },
     "output_type": "display_data"
    }
   ],
   "source": [
    "q= st.poisson(μ).cdf(k)\n",
    "plt.stem(q)\n",
    "plt.title('poisson.cdf')"
   ]
  },
  {
   "cell_type": "code",
   "execution_count": 202,
   "id": "af3cd1d1",
   "metadata": {},
   "outputs": [
    {
     "data": {
      "text/plain": [
       "Text(0.5, 1.0, 'poisson.pdf')"
      ]
     },
     "execution_count": 202,
     "metadata": {},
     "output_type": "execute_result"
    },
    {
     "data": {
      "image/png": "[encoded data removed]",
      "text/plain": [
       "<Figure size 432x288 with 1 Axes>"
      ]
     },
     "metadata": {
      "needs_background": "light"
     },
     "output_type": "display_data"
    }
   ],
   "source": [
    "X_poission = st.poisson(μ).rvs(size= sampSize)\n",
    "q= st.norm.pdf(X_poission)\n",
    "plt.stem(q)\n",
    "plt.title('poisson.pdf')"
   ]
  },
  {
   "cell_type": "code",
   "execution_count": 203,
   "id": "8fc4714e",
   "metadata": {},
   "outputs": [
    {
     "data": {
      "text/plain": [
       "(array(4.), array(4.), array(0.5), array(0.25))"
      ]
     },
     "execution_count": 203,
     "metadata": {},
     "output_type": "execute_result"
    }
   ],
   "source": [
    "kurt = poisson.stats(μ, moments='mvsk')\n",
    "kurt"
   ]
  },
  {
   "cell_type": "code",
   "execution_count": 205,
   "id": "76001a05",
   "metadata": {},
   "outputs": [
    {
     "data": {
      "text/plain": [
       "(2.92, 1.7536)"
      ]
     },
     "execution_count": 205,
     "metadata": {},
     "output_type": "execute_result"
    }
   ],
   "source": [
    "X.mean(), X.var()"
   ]
  },
  {
   "cell_type": "code",
   "execution_count": 209,
   "id": "0271a900",
   "metadata": {},
   "outputs": [
    {
     "data": {
      "text/plain": [
       "array(2.0866727)"
      ]
     },
     "execution_count": 209,
     "metadata": {},
     "output_type": "execute_result"
    }
   ],
   "source": [
    "entropy = st.poisson.entropy(μ)\n",
    "entropy"
   ]
  },
  {
   "cell_type": "code",
   "execution_count": 210,
   "id": "32036b67",
   "metadata": {},
   "outputs": [
    {
     "data": {
      "text/plain": [
       "array(0.70710678)"
      ]
     },
     "execution_count": 210,
     "metadata": {},
     "output_type": "execute_result"
    }
   ],
   "source": [
    "skew"
   ]
  },
  {
   "cell_type": "code",
   "execution_count": null,
   "id": "13f106a1",
   "metadata": {},
   "outputs": [],
   "source": [
    "#Discrete Uniform (randint) Distribution "
   ]
  },
  {
   "cell_type": "code",
   "execution_count": 207,
   "id": "506ca9a7",
   "metadata": {},
   "outputs": [
    {
     "data": {
      "text/plain": [
       "(array([9, 8, 4, 4, 6, 6, 6, 6, 4, 9]),\n",
       " array([0.1, 0.1, 0.1, 0.1, 0.1, 0.1, 0.1, 0.1, 0.1, 0.1, 0. ]),\n",
       " array([0.1, 0.2, 0.3, 0.4, 0.5, 0.6, 0.7, 0.8, 0.9, 1. , 1. ]))"
      ]
     },
     "execution_count": 207,
     "metadata": {},
     "output_type": "execute_result"
    }
   ],
   "source": [
    "k=   np.arange(0,11)\n",
    "\n",
    "\n",
    "X=   st.randint(low=0, high=10).rvs(size= 10)\n",
    "pmf= st.randint(low=0, high=10).pmf(k)\n",
    "cdf= st.randint(low=0, high=10).cdf(k)\n",
    "X, pmf, cdf"
   ]
  },
  {
   "cell_type": "code",
   "execution_count": 214,
   "id": "7fdf7f22",
   "metadata": {},
   "outputs": [
    {
     "data": {
      "text/plain": [
       "Text(0.5, 1.0, 'Discrete Distribution.pmf')"
      ]
     },
     "execution_count": 214,
     "metadata": {},
     "output_type": "execute_result"
    },
    {
     "data": {
      "image/png": "[encoded data removed]",
      "text/plain": [
       "<Figure size 432x288 with 1 Axes>"
      ]
     },
     "metadata": {
      "needs_background": "light"
     },
     "output_type": "display_data"
    }
   ],
   "source": [
    "q= st.randint(low=0, high=10).pmf(k)\n",
    "plt.stem(q)\n",
    "plt.title('Discrete Distribution.pmf')"
   ]
  },
  {
   "cell_type": "code",
   "execution_count": 215,
   "id": "3b4cf051",
   "metadata": {},
   "outputs": [
    {
     "data": {
      "text/plain": [
       "Text(0.5, 1.0, 'Discrete Distribution.cdf')"
      ]
     },
     "execution_count": 215,
     "metadata": {},
     "output_type": "execute_result"
    },
    {
     "data": {
      "image/png": "[encoded data removed]",
      "text/plain": [
       "<Figure size 432x288 with 1 Axes>"
      ]
     },
     "metadata": {
      "needs_background": "light"
     },
     "output_type": "display_data"
    }
   ],
   "source": [
    "q= st.randint(low=0, high=10).cdf(k)\n",
    "plt.stem(q)\n",
    "plt.title('Discrete Distribution.cdf')"
   ]
  },
  {
   "cell_type": "code",
   "execution_count": 218,
   "id": "c72f61bc",
   "metadata": {},
   "outputs": [
    {
     "data": {
      "text/plain": [
       "Text(0.5, 1.0, 'Discrete Distribution.pdf')"
      ]
     },
     "execution_count": 218,
     "metadata": {},
     "output_type": "execute_result"
    },
    {
     "data": {
      "image/png": "[encoded data removed]",
      "text/plain": [
       "<Figure size 432x288 with 1 Axes>"
      ]
     },
     "metadata": {
      "needs_background": "light"
     },
     "output_type": "display_data"
    }
   ],
   "source": [
    "X_discrete=  st.randint(low=0, high=10).rvs(size= sampSize)\n",
    "q= st.norm.pdf(X_discrete)\n",
    "plt.stem(q)\n",
    "plt.title('Discrete Distribution.pdf')"
   ]
  },
  {
   "cell_type": "code",
   "execution_count": 219,
   "id": "462c9afb",
   "metadata": {},
   "outputs": [
    {
     "data": {
      "text/plain": [
       "array(0.70710678)"
      ]
     },
     "execution_count": 219,
     "metadata": {},
     "output_type": "execute_result"
    }
   ],
   "source": [
    "skew"
   ]
  },
  {
   "cell_type": "code",
   "execution_count": 221,
   "id": "5d98dcbd",
   "metadata": {},
   "outputs": [
    {
     "data": {
      "text/plain": [
       "(6.2, 3.3599999999999994)"
      ]
     },
     "execution_count": 221,
     "metadata": {},
     "output_type": "execute_result"
    }
   ],
   "source": [
    "X.mean(), X.var()"
   ]
  }
 ],
 "metadata": {
  "kernelspec": {
   "display_name": "Python 3",
   "language": "python",
   "name": "python3"
  },
  "language_info": {
   "codemirror_mode": {
    "name": "ipython",
    "version": 3
   },
   "file_extension": ".py",
   "mimetype": "text/x-python",
   "name": "python",
   "nbconvert_exporter": "python",
   "pygments_lexer": "ipython3",
   "version": "3.8.8"
  }
 },
 "nbformat": 4,
 "nbformat_minor": 5
}
